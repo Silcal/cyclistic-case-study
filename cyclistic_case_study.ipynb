{
 "cells": [
  {
   "cell_type": "markdown",
   "metadata": {},
   "source": [
    "<div align=\"center\"><h1> Case Study: Cyclistic </h1></div> \n",
    "\n",
    "## Case Background\n",
    "As a junior data analyst working in the marketing analyst team at Cyclistic (a bike-sharing company active in Chicago), I am tasked with understanding how casual riders and annual members use Cyclistic bikes differently. Casual riders consist of customers that purchase single-ride or full-day passes, whereas annual members subscribe yearly for the service. The director of marketing theorizes that the company's future success depends on maximizing the number of yearly memberships. Pending executive approval, my team will be designing a new marketing strategy to convert casual users into annual subscribers. \n",
    "\n",
    "To inform any decision-making behind Cyclistic's new marketing strategy, the goal of this project will be to uncover and convey actionable insights.\n",
    "\n",
    "If you would like to skip everything to view the results of this study, you can view my presentation [here](https://www.youtube.com/watch?v=9Rr4QwJb5Lk&t=2s).\n",
    "\n",
    "## Scope of Work\n",
    "\n",
    "|Deliverable|Tasks                    |\n",
    "|:----------:|:------------------------|\n",
    "|1. Define and discuss the project|<ul><li>Producing a scope of work document</li><li>Framing a problem statement</li><li>Defining project goals and the measurements to define success by discussing the project with stakeholders and ascertaining expectations</li></ul>|\n",
    "|2. Extract and prepare the data for exploration|<ul><li>Identifying where data resides and its structure</li><li>Determining data reliability, origins, comprehensiveness, current relevance, and credibility</li><li>Addressing licensing, privacy, security, and accessibility concerns</li><li>Verifying data integrity</li><li>Identifying how the data helps answer the questions we're pursuing</li><li>Filtering and sorting the data</li>|\n",
    "|3. Process the data for analysis|<ul><li>Research and apply the correct data manipulation tools for processing and analysis</li><li>Check for dirty data - in particular for data that is outdated, duplicated, incomplete, inconsistent, and inaccurate</li><li>Wrangle and clean the data until we can apply unbiased and representative data analytics</li></ul>|\n",
    "|4. Conduct a descriptive analysis|<ul><li>Organize and format the data (including useful aggregate tables)</li><li>Identify trends and relationships with the help of calculations, data aggregations, and relevant visuals</li><li>Provide a summary of the analysis</li></ul>|\n",
    "|5. Share key findings with stakeholders|<ul><li>Create an effective and accessible presentation that answers the original business problem with compelling storytelling</li></ul>|\n",
    "|6. Act on key findings|<ul><li>Based on the analysis conducted, provide three recommendations for the marketing campaign to move forward with</li></ul>|"
   ]
  },
  {
   "cell_type": "markdown",
   "metadata": {},
   "source": [
    "# Deliverable: Define and discuss the project\n",
    "    \n",
    "## Business Background\n",
    "Business Model:\n",
    "\n",
    "- Product: bike-sharing geotracked and network locked bikes across Chicago\n",
    "- Customer types and revenue model: members (annual subscribers) and casual riders (single-ride and full-day purchasers)\n",
    "- Competitive advantages: Bicycle variety (broad consumer segments) and pricing flexibility \n",
    "\n",
    "Product Background:\n",
    "\n",
    "- 5,824 bicycles and 692 docking stations\n",
    "- More than 50% of riders select traditional bikes\n",
    "- 8% of riders opt for the assistive bike options\n",
    "- 30% of users bike to commute to work each day\n",
    "- Users are more likely to ride for leisure\n",
    "- Casual riders have chosen Cyclistic for their mobility needs\n",
    "\n",
    "## Discussing Goals and Expectations\n",
    "|Stakeholders|Expectations|Project/Business Goals|\n",
    "|:-----------|:-----------|:---------------------|\n",
    "|Cyclistic Executive Team|Compelling, relevant, and straightforward insights to inform data-driven marketing decisions|Implementing strategic initiatives to promote business growth|\n",
    "|Lily Moreno, Director of Marketing|Evidence to back up her theory and marketing recommendations|Convert a sizable group of casual riders to become annual members|\n",
    "|Marketing analytics team|Uncovering the differences and motivations behind different customer types|Produce data-driven and actionable results to inform business decision making|\n",
    "\n",
    "## Problem Statement\n",
    "\n",
    "Cyclistic is faced with an uncertain future and is no longer able to solely rely on its traditional marketing strategies of raising general awareness and appealing to a variety of customer needs. In the interest of company growth, the director of marketing believes that Cyclistic should capitalize on the lucrative profit margins of annual subscribers by marketing to existing casual customers and persuading them to become yearly subscribers. If that strategy is plausible, a well-executed marketing campaign may lead to more sustainable long-term revenue. To that end, we need to analyze how and why Cyclistic casual bikers and members differ to weigh any evidence, opportunities, and barriers to any future conversion strategy."
   ]
  },
  {
   "cell_type": "markdown",
   "metadata": {},
   "source": [
    "# Deliverable: Prepare the data for exploration\n",
    "\n",
    "## Preprocessing Scope\n",
    "\n",
    "- Choosing a dataset, outlining the data's location and how it's organized\n",
    "- Determining if the data meets analysis standards (ROCCC - Reliable, Original, Comprehensive, Current, and Credible)\n",
    "- Addressing ethical concerns (security, accessibility, privacy, and licensing)\n",
    "- Verifying the data's integrity \n",
    "- Identifying how the data helps answer the questions being asked\n",
    "- Filtering and sorting the data\n",
    "\n",
    "## Data Source and Organization\n",
    "\n",
    "The data we'll be using was extracted from [here](https://divvy-tripdata.s3.amazonaws.com/index.html) with a helper dataset downloaded from [here](https://data.cityofchicago.org/Transportation/Divvy-Bicycle-Stations/bbyy-e7gq/data) and is made available by Motivate International Inc. under this [license](https://www.divvybikes.com/data-license-agreement). Note that Cyclistic is a fictional entity and Divvy's open data is used for the purpose of this case study.\n",
    "\n",
    "The data available to us consists of a repository made up of quantitative measurements collected over time. Each data point represents a single bike trip from one docking station to the next. At first glance, this data does not seem sufficient to fully comprehend how casuals and members use Cyclistic bikes differently. This data provides an overhead view of <b>what</b> they may be doing differently, but not the <b>why</b>. At this stage, I would recommend putting the project on hold to collect more pertinent data. In particular, it would be useful to survey members and casuals on the ground to get answers to essentially qualitative questions like \"What do you use Cyclistic bikes for?\" and \"What discourages you from using Cyclistic bikes?\".\n",
    "\n",
    "Assuming that executives are unwilling to commit additional resources and time to collect more data, we will do our best with the data currently on hand.\n",
    "\n",
    "We'll be examining a period of 12 months, from the start of July 2020 to the end of June 2021. Each month has a separate comma-separated value file with the same headings. Each record consists of a bike trip under the bike-sharing program composed of several features: a unique hash ID serving as the table's primary key to identify each bike trip, the type of bike used, the type of customer (casual or member), details about the starting and ending docking station (name, ID, latitude, and longitude) and the DateTime for when the bike was picked up and dropped off.   \n",
    "\n",
    "## Data Quality Assessment\n",
    "\n",
    "- Reliable: ⚠️\n",
    "\n",
    "|reliability issues|description|\n",
    "|:----------------:|:----------|\n",
    "|validity|minimal constraints were imposed on formatting and range, resulting in issues like end datetimes starting before<br>start datetimes, stations having multiple ids, ids belonging to several stations, and formatting changes over time|\n",
    "|incomplete|10% of records have one or more missing values|\n",
    "|duplicates|there are hundreds of duplicate primary keys, but each instance is unique|\n",
    "\n",
    "\n",
    "- Original: ✅\n",
    "\n",
    "The data was sourced by a first-party group (motivate international inc.) using their resources without any third-party intervention.\n",
    "\n",
    "- Comprehensiveness: ✅\n",
    "\n",
    "This data set is comprehensive enough for our inquiry and is mostly free of human error.\n",
    "\n",
    "- Current: ✅\n",
    "\n",
    "The time frame we're examining gives us an up-to-date view.\n",
    "\n",
    "- Vetted: ✅\n",
    "\n",
    "Based on our initial investigations, most recorded bike trips are accurate and free of any notable errors.\n",
    "\n",
    "## Ethical Concerns\n",
    "\n",
    "- Security: The data is in a cloud repository that is managed by authorized Motivate employees and is secure by a trusted cloud services provider (Amazon Web Services)\n",
    "\n",
    "- Accessibility: All of Cyclistic's bike ride records are open to the public with minimal constraint\n",
    "\n",
    "- Privacy: Sufficient anonymization was applied through de-identification, and the data is free of any personally identifiable information \n",
    "\n",
    "- Licensing: This dataset is constrained by these [license terms](https://www.divvybikes.com/data-license-agreement)\n",
    "\n",
    "- Credibility: The good faith of the provider of data (Motivate International Inc.) can be relied on to ensure that the data is factually representative. At first glance, there is no evidence of intentional misrepresentation.\n",
    "\n",
    "## Data Integrity\n",
    "\n",
    "Inconsistencies are present from the time-series nature of the data. Otherwise, the accuracy and consistency of the data are not compromised.\n",
    "\n",
    "## Data Purpose \n",
    "\n",
    "To discover trends and actionable insights that reveal how Cyclistic bikes are used by different user types.\n",
    "\n",
    "## Filtering/Sorting \n",
    "\n",
    "The data has already been sorted between July 2020 and June 2021. Any filtering that will be applied will exclude significant outliers and instances with errors.\n",
    "\n",
    "## Assumptions:\n",
    "\n",
    "We assume that the data collection process was accomplished with integrity. Furthermore, we move forward with this analysis under the assumption that the data is free of any glaring inaccuracies, bias, and credibility issues. We also assume that the original repository has never been accessed or modified in an unauthorized manner. "
   ]
  },
  {
   "cell_type": "markdown",
   "metadata": {},
   "source": [
    "## Preprocessing Coding Log\n",
    "\n",
    "### Setup: library modules and helper functions"
   ]
  },
  {
   "cell_type": "code",
   "execution_count": 3,
   "metadata": {
    "ExecuteTime": {
     "end_time": "2022-01-03T02:25:19.956956Z",
     "start_time": "2022-01-03T02:25:19.935955Z"
    }
   },
   "outputs": [],
   "source": [
    "import numpy as np                        # efficient data types\n",
    "import csv                                # csv handling\n",
    "import os                                 # data file path handling\n",
    "import glob                               # pathnames matching\n",
    "import pandas as pd                       # data manipulation and analysis\n",
    "import warnings                           # eliminate markdown warnings\n",
    "import geopandas as gpd                   # geographical visualizations\n",
    "import matplotlib.pyplot as plt           # plotting visuals\n",
    "import seaborn as sns                     # visualization module\n",
    "from shapely.geometry import Point        # plotting gps coordinates\n",
    "import difflib                            # comparing strings\n",
    "import re                                 # pattern matching \n",
    "\n",
    "\n",
    "# global settings\n",
    "sns.set(style=\"white\")\n",
    "%matplotlib inline\n",
    "warnings.simplefilter('ignore')\n",
    "pd.set_option('display.max_rows', 100)\n",
    "\n",
    "def cols_mem_usage(*args: str) -> None:\n",
    "    \"\"\"Print dataframe column's memory usage in megabytes.\"\"\"\n",
    "    df_mem_usage = df.memory_usage(deep = True)\n",
    "    for col_name in list(args):\n",
    "        print(f\"{col_name} total memory usage: {df_mem_usage[col_name]/1_000_000}MB\")\n",
    "        \n",
    "\"\"\"\n",
    "pandas is inadvertantly converting integers into floats (i.e. 1 -> 1.0) on csv reads, so\n",
    "this is mainly to handle comparisons that should hold true like '1' == '1.0'  \n",
    "while accounting for strings without digits\n",
    "\"\"\"\n",
    "def try_int(x: str) -> str:\n",
    "    \"\"\"Attempt to convert a string into an integer, and back into a string to remove decimals.\"\"\"\n",
    "    try:\n",
    "        return str(int(x))\n",
    "    except ValueError:\n",
    "        return x"
   ]
  },
  {
   "cell_type": "markdown",
   "metadata": {},
   "source": [
    "### Data preview\n",
    "\n",
    "Let's look at a single row in one of the csv files we've downloaded to see if we need to omit any irrelevant columns from or inquiry"
   ]
  },
  {
   "cell_type": "code",
   "execution_count": 4,
   "metadata": {
    "ExecuteTime": {
     "end_time": "2022-01-03T02:25:19.988984Z",
     "start_time": "2022-01-03T02:25:19.958988Z"
    },
    "code_folding": [],
    "scrolled": false
   },
   "outputs": [
    {
     "data": {
      "text/html": [
       "<div>\n",
       "<style scoped>\n",
       "    .dataframe tbody tr th:only-of-type {\n",
       "        vertical-align: middle;\n",
       "    }\n",
       "\n",
       "    .dataframe tbody tr th {\n",
       "        vertical-align: top;\n",
       "    }\n",
       "\n",
       "    .dataframe thead th {\n",
       "        text-align: right;\n",
       "    }\n",
       "</style>\n",
       "<table border=\"1\" class=\"dataframe\">\n",
       "  <thead>\n",
       "    <tr style=\"text-align: right;\">\n",
       "      <th></th>\n",
       "      <th>ride_id</th>\n",
       "      <th>rideable_type</th>\n",
       "      <th>started_at</th>\n",
       "      <th>ended_at</th>\n",
       "      <th>start_station_name</th>\n",
       "      <th>start_station_id</th>\n",
       "      <th>end_station_name</th>\n",
       "      <th>end_station_id</th>\n",
       "      <th>start_lat</th>\n",
       "      <th>start_lng</th>\n",
       "      <th>end_lat</th>\n",
       "      <th>end_lng</th>\n",
       "      <th>member_casual</th>\n",
       "    </tr>\n",
       "  </thead>\n",
       "  <tbody>\n",
       "    <tr>\n",
       "      <th>0</th>\n",
       "      <td>762198876D69004D</td>\n",
       "      <td>docked_bike</td>\n",
       "      <td>2020-07-09 15:22:02</td>\n",
       "      <td>2020-07-09 15:25:52</td>\n",
       "      <td>Ritchie Ct &amp; Banks St</td>\n",
       "      <td>180</td>\n",
       "      <td>Wells St &amp; Evergreen Ave</td>\n",
       "      <td>291</td>\n",
       "      <td>41.906866</td>\n",
       "      <td>-87.626217</td>\n",
       "      <td>41.906724</td>\n",
       "      <td>-87.63483</td>\n",
       "      <td>member</td>\n",
       "    </tr>\n",
       "  </tbody>\n",
       "</table>\n",
       "</div>"
      ],
      "text/plain": [
       "            ride_id rideable_type           started_at             ended_at  \\\n",
       "0  762198876D69004D   docked_bike  2020-07-09 15:22:02  2020-07-09 15:25:52   \n",
       "\n",
       "      start_station_name start_station_id          end_station_name  \\\n",
       "0  Ritchie Ct & Banks St              180  Wells St & Evergreen Ave   \n",
       "\n",
       "  end_station_id  start_lat   start_lng    end_lat    end_lng member_casual  \n",
       "0            291  41.906866  -87.626217  41.906724  -87.63483        member  "
      ]
     },
     "execution_count": 4,
     "metadata": {},
     "output_type": "execute_result"
    }
   ],
   "source": [
    "def get_csv_peek(fp: str) -> pd.DataFrame:   \n",
    "    \"\"\"Look at csv's first record as a dataframe\"\"\"\n",
    "    with open(fp) as csvfile:\n",
    "        reader = csv.reader(csvfile)\n",
    "        column_headers = next(reader) \n",
    "        first_row = next(reader)\n",
    "        return pd.DataFrame(data = [first_row], columns = column_headers)\n",
    "\n",
    "get_csv_peek(\"uncleaned_data/202007-divvy-tripdata.csv\")"
   ]
  },
  {
   "cell_type": "markdown",
   "metadata": {},
   "source": [
    "All of these columns are relevant for our analysis, so we'll keep them"
   ]
  },
  {
   "cell_type": "markdown",
   "metadata": {},
   "source": [
    "### Checking dataset size"
   ]
  },
  {
   "cell_type": "code",
   "execution_count": 5,
   "metadata": {
    "ExecuteTime": {
     "end_time": "2022-01-03T02:25:20.004955Z",
     "start_time": "2022-01-03T02:25:19.989971Z"
    }
   },
   "outputs": [
    {
     "name": "stdout",
     "output_type": "stream",
     "text": [
      "Total dataset size: 816.35 Megabytes\n"
     ]
    }
   ],
   "source": [
    "def get_files_total_size() -> float:\n",
    "    \"\"\"Find the total dataset size by summing each individual file's size\"\"\"\n",
    "    data_folder_path = os.getcwd() + \"\\\\uncleaned_data\\\\\"\n",
    "    files = list(os.listdir(data_folder_path))\n",
    "    total_size = 0\n",
    "    for f in files:\n",
    "        total_size += os.stat(data_folder_path + f).st_size\n",
    "    \n",
    "    return round(total_size/1_000_000, 2)\n",
    "\n",
    "print(f\"Total dataset size: {get_files_total_size()} Megabytes\")"
   ]
  },
  {
   "cell_type": "markdown",
   "metadata": {},
   "source": [
    "# Deliverable: Process the data for analysis\n",
    "\n",
    "## Processing Scope\n",
    "- Research and apply the correct data manipulation tools for processing and analysis\n",
    "- Check for dirty data - in particular for data that is outdated, duplicated, incomplete, inconsistent and inaccurate\n",
    "- Transform and clean the data to a point where it can be worked with effectively in analysis\n",
    "\n",
    "## Choosing the right tools for the job\n",
    "\n",
    "Given the small-scale size of our merged dataset, I'll be utilizing Python 3.0 with several library modules that are necessary for data manipulation and visualization. I will primarily be relying on the Pandas software library for its efficient use of data structures and operations. Since the entire merged dataset fits comfortably in RAM, most straightforward operations will complete in a few seconds. In case I do run into some performance issues, I'll take advantage of a cloud cluster querying solution like BigQuery.\n",
    "\n",
    "## Checking for dirty data"
   ]
  },
  {
   "cell_type": "markdown",
   "metadata": {
    "ExecuteTime": {
     "end_time": "2021-08-07T20:06:26.014851Z",
     "start_time": "2021-08-07T20:06:26.000843Z"
    }
   },
   "source": [
    "### Merging our dataset into a single dataframe"
   ]
  },
  {
   "cell_type": "code",
   "execution_count": 6,
   "metadata": {
    "ExecuteTime": {
     "end_time": "2022-01-03T02:25:39.404955Z",
     "start_time": "2022-01-03T02:25:20.006956Z"
    }
   },
   "outputs": [],
   "source": [
    "def get_merged_df(data_folder_path: str) -> pd.DataFrame:\n",
    "    \"\"\"Merge data files into a single dataframe.\"\"\"\n",
    "    files = list(os.listdir(data_folder_path))\n",
    "    file_paths = [data_folder_path + f for f in files]\n",
    "    #load all files\n",
    "    df_per_file = (pd.read_csv(fp, \n",
    "                               low_memory = False, \n",
    "                               parse_dates = ['started_at', 'ended_at'],\n",
    "                               infer_datetime_format = True,\n",
    "                               memory_map = True)\n",
    "                  for fp in file_paths)\n",
    "    return pd.concat(df_per_file, ignore_index = True)\n",
    "\n",
    "df = get_merged_df(os.getcwd() + \"\\\\uncleaned_data\\\\\")"
   ]
  },
  {
   "cell_type": "markdown",
   "metadata": {},
   "source": [
    "### Loading our helper dataset\n",
    "\n",
    "Alongside our main dataset, we'll take advantage of data from the city of Chicago that will provide us with the most up-to-date information regarding active Cyclistic docking stations.\n",
    "This data can be found [here](https://data.cityofchicago.org/Transportation/Divvy-Bicycle-Stations/bbyy-e7gq/data)."
   ]
  },
  {
   "cell_type": "code",
   "execution_count": 7,
   "metadata": {
    "ExecuteTime": {
     "end_time": "2022-01-03T02:25:39.466955Z",
     "start_time": "2022-01-03T02:25:39.405961Z"
    },
    "scrolled": true
   },
   "outputs": [
    {
     "name": "stdout",
     "output_type": "stream",
     "text": [
      "<class 'pandas.core.frame.DataFrame'>\n",
      "Index: 708 entries, Kedzie Ave & Chicago Ave to Pulaski Rd & 21st St\n",
      "Data columns (total 3 columns):\n",
      " #   Column     Non-Null Count  Dtype  \n",
      "---  ------     --------------  -----  \n",
      " 0   ID         708 non-null    int64  \n",
      " 1   Latitude   708 non-null    float64\n",
      " 2   Longitude  708 non-null    float64\n",
      "dtypes: float64(2), int64(1)\n",
      "memory usage: 22.1+ KB\n"
     ]
    }
   ],
   "source": [
    "stations_df = pd.read_csv(\"Divvy_Bicycle_Stations.csv\", usecols = ['ID', 'Station Name', 'Latitude', 'Longitude'], index_col = 'Station Name')\n",
    "stations_df.info()"
   ]
  },
  {
   "cell_type": "markdown",
   "metadata": {},
   "source": [
    "This helper dataset gives us a clean look at how the data should be formatted."
   ]
  },
  {
   "cell_type": "markdown",
   "metadata": {},
   "source": [
    "### At First Glance\n",
    "\n",
    "#### Examining our metadata\n",
    "\n",
    "Let's examine our primary dataset by looking at the memory usage, formatting, and descriptive statistics of each of our fields, among other things. We do this to validate our data before diving into data processing."
   ]
  },
  {
   "cell_type": "code",
   "execution_count": 8,
   "metadata": {
    "ExecuteTime": {
     "end_time": "2022-01-03T02:25:41.759955Z",
     "start_time": "2022-01-03T02:25:39.467955Z"
    },
    "scrolled": false
   },
   "outputs": [
    {
     "name": "stdout",
     "output_type": "stream",
     "text": [
      "<class 'pandas.core.frame.DataFrame'>\n",
      "RangeIndex: 4460151 entries, 0 to 4460150\n",
      "Data columns (total 13 columns):\n",
      " #   Column              Dtype         \n",
      "---  ------              -----         \n",
      " 0   ride_id             object        \n",
      " 1   rideable_type       object        \n",
      " 2   started_at          datetime64[ns]\n",
      " 3   ended_at            datetime64[ns]\n",
      " 4   start_station_name  object        \n",
      " 5   start_station_id    object        \n",
      " 6   end_station_name    object        \n",
      " 7   end_station_id      object        \n",
      " 8   start_lat           float64       \n",
      " 9   start_lng           float64       \n",
      " 10  end_lat             float64       \n",
      " 11  end_lng             float64       \n",
      " 12  member_casual       object        \n",
      "dtypes: datetime64[ns](2), float64(4), object(7)\n",
      "memory usage: 2.1 GB\n"
     ]
    }
   ],
   "source": [
    "# get information from our dataframe (number of records, memory use and data types)\n",
    "df.info(memory_usage = 'deep')"
   ]
  },
  {
   "cell_type": "markdown",
   "metadata": {},
   "source": [
    "The memory size of our merged dataset has increased dramatically compared to the combined CSV's total memory size of 816 megabytes. This is partially due to the expensive memory use of object data types, which is a symptom of columns housing multiple data types. It makes sense to have them for fields like \"ride_id\" where a string of characters and numbers make up the values. Otherwise, like in start_station_id's case, it's evidence of some formatting inconsistency. \n",
    "\n",
    "Based on our helper dataset, Station IDs should only consist of integers. Our primary dataset does not, so we'll need to address that once we apply our preprocessing transformations."
   ]
  },
  {
   "cell_type": "code",
   "execution_count": 9,
   "metadata": {
    "ExecuteTime": {
     "end_time": "2022-01-03T02:25:43.122984Z",
     "start_time": "2022-01-03T02:25:41.760955Z"
    }
   },
   "outputs": [
    {
     "data": {
      "text/html": [
       "<div>\n",
       "<style scoped>\n",
       "    .dataframe tbody tr th:only-of-type {\n",
       "        vertical-align: middle;\n",
       "    }\n",
       "\n",
       "    .dataframe tbody tr th {\n",
       "        vertical-align: top;\n",
       "    }\n",
       "\n",
       "    .dataframe thead th {\n",
       "        text-align: right;\n",
       "    }\n",
       "</style>\n",
       "<table border=\"1\" class=\"dataframe\">\n",
       "  <thead>\n",
       "    <tr style=\"text-align: right;\">\n",
       "      <th></th>\n",
       "      <th>start_lat</th>\n",
       "      <th>start_lng</th>\n",
       "      <th>end_lat</th>\n",
       "      <th>end_lng</th>\n",
       "    </tr>\n",
       "  </thead>\n",
       "  <tbody>\n",
       "    <tr>\n",
       "      <th>count</th>\n",
       "      <td>4460151.000</td>\n",
       "      <td>4460151.000</td>\n",
       "      <td>4454865.000</td>\n",
       "      <td>4454865.000</td>\n",
       "    </tr>\n",
       "    <tr>\n",
       "      <th>mean</th>\n",
       "      <td>41.903</td>\n",
       "      <td>-87.644</td>\n",
       "      <td>41.903</td>\n",
       "      <td>-87.645</td>\n",
       "    </tr>\n",
       "    <tr>\n",
       "      <th>std</th>\n",
       "      <td>0.044</td>\n",
       "      <td>0.026</td>\n",
       "      <td>0.044</td>\n",
       "      <td>0.026</td>\n",
       "    </tr>\n",
       "    <tr>\n",
       "      <th>min</th>\n",
       "      <td>41.640</td>\n",
       "      <td>-87.870</td>\n",
       "      <td>41.510</td>\n",
       "      <td>-88.070</td>\n",
       "    </tr>\n",
       "    <tr>\n",
       "      <th>25%</th>\n",
       "      <td>41.882</td>\n",
       "      <td>-87.659</td>\n",
       "      <td>41.882</td>\n",
       "      <td>-87.659</td>\n",
       "    </tr>\n",
       "    <tr>\n",
       "      <th>50%</th>\n",
       "      <td>41.899</td>\n",
       "      <td>-87.641</td>\n",
       "      <td>41.900</td>\n",
       "      <td>-87.641</td>\n",
       "    </tr>\n",
       "    <tr>\n",
       "      <th>75%</th>\n",
       "      <td>41.930</td>\n",
       "      <td>-87.627</td>\n",
       "      <td>41.930</td>\n",
       "      <td>-87.628</td>\n",
       "    </tr>\n",
       "    <tr>\n",
       "      <th>max</th>\n",
       "      <td>42.080</td>\n",
       "      <td>-87.520</td>\n",
       "      <td>42.160</td>\n",
       "      <td>-87.440</td>\n",
       "    </tr>\n",
       "  </tbody>\n",
       "</table>\n",
       "</div>"
      ],
      "text/plain": [
       "         start_lat    start_lng      end_lat      end_lng\n",
       "count  4460151.000  4460151.000  4454865.000  4454865.000\n",
       "mean        41.903      -87.644       41.903      -87.645\n",
       "std          0.044        0.026        0.044        0.026\n",
       "min         41.640      -87.870       41.510      -88.070\n",
       "25%         41.882      -87.659       41.882      -87.659\n",
       "50%         41.899      -87.641       41.900      -87.641\n",
       "75%         41.930      -87.627       41.930      -87.628\n",
       "max         42.080      -87.520       42.160      -87.440"
      ]
     },
     "execution_count": 9,
     "metadata": {},
     "output_type": "execute_result"
    }
   ],
   "source": [
    "# get descriptive statistics under each numeric column\n",
    "df.describe().apply(lambda s: s.apply('{0:.3f}'.format))"
   ]
  },
  {
   "cell_type": "markdown",
   "metadata": {},
   "source": [
    "#### Validating GPS columns "
   ]
  },
  {
   "cell_type": "markdown",
   "metadata": {},
   "source": [
    "For our columns with latitude and longitude coordinates, we want to verify that they are accurate.\n",
    "\n",
    "With the dataset constrained to the city of Chicago, we have a range of (41.510, -88.070) to (42.160, -87.440), giving us this bounding box. (note: this is referring to the min/max of end_lat and end_lng)\n",
    "\n",
    "<img src=\"divvy_coord_boundaries.png\"/>\n",
    "\n",
    "This image looks just about right, but let's plot the points to verify that none of the GPS points are in the water."
   ]
  },
  {
   "cell_type": "code",
   "execution_count": 10,
   "metadata": {
    "ExecuteTime": {
     "end_time": "2022-01-03T02:39:28.885825Z",
     "start_time": "2022-01-03T02:25:43.123975Z"
    }
   },
   "outputs": [
    {
     "data": {
      "image/png": "[encoded data removed]",
      "text/plain": [
       "<Figure size 1080x1080 with 2 Axes>"
      ]
     },
     "metadata": {
      "needs_background": "light"
     },
     "output_type": "display_data"
    }
   ],
   "source": [
    "def validate_coordinates() -> None:\n",
    "    \"\"\"Display data scatter points vs active station locations on a map of chicago\"\"\"\n",
    "    longitudes = pd.concat([df['start_lng'], df['end_lng']])\n",
    "    latitudes = pd.concat([df['start_lat'], df['end_lat']])\n",
    "    chicago_map = gpd.read_file('geo_export_392b318d-fb6e-4db5-b8e4-c5e35746342e.shp')\n",
    "\n",
    "    fig, (ax1, ax2) = plt.subplots(1,2, figsize=(15,15))\n",
    "\n",
    "    official_geometry = [Point(xy) for xy in zip(stations_df['Longitude'], stations_df['Latitude'])]\n",
    "    main_geometry = [Point(xy) for xy in zip(longitudes, latitudes)]\n",
    "\n",
    "    main_gdf = gpd.GeoDataFrame(crs=\"EPSG:4326\", geometry = main_geometry)\n",
    "    official_gdf = gpd.GeoDataFrame(crs=\"EPSG:4326\", geometry = official_geometry)\n",
    "\n",
    "    chicago_map.plot(ax = ax1, alpha = 0.4, color = 'grey')\n",
    "    main_gdf.plot(ax = ax1, markersize = 3, color = \"blue\", marker = \"o\", label = \"start/end bike points\")\n",
    "    chicago_map.plot(ax = ax2, alpha = 0.4, color = 'grey')\n",
    "    official_gdf.plot(ax = ax2, markersize = 3, color = \"red\", marker = \"s\", label = \"active docking stations\")\n",
    "\n",
    "    ax1.set(xlabel = \"longitude\", ylabel = \"latitude\")\n",
    "    ax1.set_title('Locations of start/stop bike trips (July 2020 - June 2021)')\n",
    "    ax2.set(xlabel = \"longitude\", ylabel = \"latitude\")\n",
    "    ax2.set_title('Locations of Current Stations')\n",
    "    ax1.legend(loc = 'upper right')\n",
    "    ax2.legend(loc = 'upper right')\n",
    "    \n",
    "validate_coordinates()"
   ]
  },
  {
   "cell_type": "markdown",
   "metadata": {},
   "source": [
    "There are big clumps of scatter points far away from any currently active docking stations. Some of these points could have been valid at some point by stations that are no longer active. The rest of these points are either outliers or indicative of bikes abandoned away from a docking station. For the most part, the locations of these bike trip coordinates seem in line with the spread of active stations. Since we do not need to work with a sensitive margin of error and we want to keep this analysis relatively simple, we'll keep all points as is.\n",
    "\n",
    "#### Checking for duplicate values\n",
    "\n",
    "Let's now look at the number of unique values under each field."
   ]
  },
  {
   "cell_type": "code",
   "execution_count": 11,
   "metadata": {
    "ExecuteTime": {
     "end_time": "2022-01-03T02:39:41.481793Z",
     "start_time": "2022-01-03T02:39:28.905798Z"
    },
    "scrolled": true
   },
   "outputs": [
    {
     "name": "stdout",
     "output_type": "stream",
     "text": [
      "Unique values per column\n",
      "ride_id: 4459942\n",
      "rideable_type: 3\n",
      "started_at: 3813396\n",
      "ended_at: 3801221\n",
      "start_station_name: 712\n",
      "start_station_id: 1360\n",
      "end_station_name: 713\n",
      "end_station_id: 1360\n",
      "start_lat: 322245\n",
      "start_lng: 310159\n",
      "end_lat: 372054\n",
      "end_lng: 344901\n",
      "member_casual: 2\n"
     ]
    }
   ],
   "source": [
    "# checking the number of unique values per column\n",
    "print(\"Unique values per column\")\n",
    "for col in df.columns:\n",
    "    print(f\"{col}: {df[col].nunique()}\")"
   ]
  },
  {
   "cell_type": "markdown",
   "metadata": {},
   "source": [
    "- \"rideable_type\" and \"member_casual\" could benefit from a more efficient data type since they both have a limited number of unique values\n",
    "- \"ride_id\", presumably the intended primary key of this table, clearly has duplicates since the number of unique values does not conform to the data frame's size\n",
    "- There are more station ids than station names, which implies that many station names are associated with multiple station IDs\n",
    "\n",
    "#### Checking for entity participation constraints\n",
    "\n",
    "Let's check if IDs can also associate with more than one station name. According to our helper data set, we should expect a one-to-one relationship with IDs having a single associated station. If it doesn't, we need to worry about the potential ramifications of this kind of inconsistency. It becomes misleading to analyze data about these stations, such as figuring out which station ID is most frequented. "
   ]
  },
  {
   "cell_type": "code",
   "execution_count": 12,
   "metadata": {
    "ExecuteTime": {
     "end_time": "2022-01-03T02:39:43.055635Z",
     "start_time": "2022-01-03T02:39:41.502638Z"
    },
    "scrolled": true
   },
   "outputs": [
    {
     "name": "stdout",
     "output_type": "stream",
     "text": [
      "Number of station IDs with more than one name associated with it: 70\n"
     ]
    },
    {
     "data": {
      "text/plain": [
       "id     station_name                  \n",
       "19.0   Throop (Loomis) St & Taylor St     2410\n",
       "       Throop St & Taylor St              1061\n",
       "26.0   McClurg Ct & Illinois St          10359\n",
       "       New St & Illinois St               1269\n",
       "317.0  Wood St & Taylor St                2047\n",
       "       Wood St & Taylor St (Temp)         1275\n",
       "dtype: int64"
      ]
     },
     "execution_count": 12,
     "metadata": {},
     "output_type": "execute_result"
    }
   ],
   "source": [
    "def get_inconsistent_ids_series() -> pd.Series:\n",
    "    \"\"\"Get a pandas series of stations sharing the same ID and their value counts\"\"\"\n",
    "    start_ids_sr = df.groupby(['start_station_id','start_station_name']).size().rename_axis(index={'start_station_id': 'id', 'start_station_name': 'station_name'})\n",
    "    end_ids_sr = df.groupby(['end_station_id','end_station_name']).size().rename_axis(index={'end_station_id': 'id', 'end_station_name': 'station_name'})\n",
    "\n",
    "    vc1 = start_ids_sr.reset_index()['id'].value_counts()\n",
    "    vc2 = end_ids_sr.reset_index()['id'].value_counts()\n",
    "\n",
    "    start_ids_with_many_names = vc1[vc1 > 1].index\n",
    "    end_ids_with_many_names = vc2[vc2 > 1].index\n",
    "\n",
    "    start_mask = start_ids_sr.index.get_level_values(0).isin(start_ids_with_many_names)\n",
    "    start_ids_sr[start_mask]\n",
    "    end_mask = end_ids_sr.index.get_level_values(0).isin(end_ids_with_many_names)\n",
    "    end_ids_sr[end_mask]\n",
    "\n",
    "    return pd.concat([start_ids_sr[start_mask], end_ids_sr[end_mask]], axis = 0)\n",
    "\n",
    "inconsistent_ids_series = get_inconsistent_ids_series()\n",
    "print(\"Number of station IDs with more than one name associated with it:\", len(inconsistent_ids_series))\n",
    "inconsistent_ids_series.head(6)"
   ]
  },
  {
   "cell_type": "markdown",
   "metadata": {},
   "source": [
    "It looks like IDs can associate with several station names due to the time series nature of our data set and the evolution of station names and locations from events like relocations, renovations, and renamings. We'll move forward assuming that these instances are valid since they point to the same station."
   ]
  },
  {
   "cell_type": "markdown",
   "metadata": {},
   "source": [
    "## Transforming and cleaning the data\n",
    "\n",
    "### Resolving duplicate data"
   ]
  },
  {
   "cell_type": "code",
   "execution_count": 13,
   "metadata": {
    "ExecuteTime": {
     "end_time": "2022-01-03T02:39:46.794666Z",
     "start_time": "2022-01-03T02:39:43.056636Z"
    },
    "scrolled": false
   },
   "outputs": [
    {
     "name": "stdout",
     "output_type": "stream",
     "text": [
      "Number of duplicates for ride_id: 209\n",
      "Sample rows:\n"
     ]
    },
    {
     "data": {
      "text/html": [
       "<div>\n",
       "<style scoped>\n",
       "    .dataframe tbody tr th:only-of-type {\n",
       "        vertical-align: middle;\n",
       "    }\n",
       "\n",
       "    .dataframe tbody tr th {\n",
       "        vertical-align: top;\n",
       "    }\n",
       "\n",
       "    .dataframe thead th {\n",
       "        text-align: right;\n",
       "    }\n",
       "</style>\n",
       "<table border=\"1\" class=\"dataframe\">\n",
       "  <thead>\n",
       "    <tr style=\"text-align: right;\">\n",
       "      <th></th>\n",
       "      <th>ride_id</th>\n",
       "      <th>rideable_type</th>\n",
       "      <th>started_at</th>\n",
       "      <th>ended_at</th>\n",
       "      <th>start_station_name</th>\n",
       "      <th>start_station_id</th>\n",
       "      <th>end_station_name</th>\n",
       "      <th>end_station_id</th>\n",
       "      <th>start_lat</th>\n",
       "      <th>start_lng</th>\n",
       "      <th>end_lat</th>\n",
       "      <th>end_lng</th>\n",
       "      <th>member_casual</th>\n",
       "    </tr>\n",
       "  </thead>\n",
       "  <tbody>\n",
       "    <tr>\n",
       "      <th>2378453</th>\n",
       "      <td>021A73F8C18B932D</td>\n",
       "      <td>docked_bike</td>\n",
       "      <td>2020-12-15 12:15:58</td>\n",
       "      <td>2020-11-25 16:48:02</td>\n",
       "      <td>Clark St &amp; Winnemac Ave</td>\n",
       "      <td>TA1309000035</td>\n",
       "      <td>Ravenswood Ave &amp; Berteau Ave</td>\n",
       "      <td>TA1309000018</td>\n",
       "      <td>41.973347</td>\n",
       "      <td>-87.667855</td>\n",
       "      <td>41.957921</td>\n",
       "      <td>-87.673567</td>\n",
       "      <td>member</td>\n",
       "    </tr>\n",
       "    <tr>\n",
       "      <th>2201528</th>\n",
       "      <td>021A73F8C18B932D</td>\n",
       "      <td>docked_bike</td>\n",
       "      <td>2020-11-25 16:35:39</td>\n",
       "      <td>2020-11-25 16:48:02</td>\n",
       "      <td>Clark St &amp; Winnemac Ave</td>\n",
       "      <td>325.0</td>\n",
       "      <td>Ravenswood Ave &amp; Berteau Ave</td>\n",
       "      <td>314.0</td>\n",
       "      <td>41.973347</td>\n",
       "      <td>-87.667855</td>\n",
       "      <td>41.957921</td>\n",
       "      <td>-87.673567</td>\n",
       "      <td>member</td>\n",
       "    </tr>\n",
       "    <tr>\n",
       "      <th>2169467</th>\n",
       "      <td>0334987B57662109</td>\n",
       "      <td>docked_bike</td>\n",
       "      <td>2020-11-25 16:15:04</td>\n",
       "      <td>2020-11-25 16:22:04</td>\n",
       "      <td>Broadway &amp; Berwyn Ave</td>\n",
       "      <td>294.0</td>\n",
       "      <td>Lakefront Trail &amp; Bryn Mawr Ave</td>\n",
       "      <td>459.0</td>\n",
       "      <td>41.978353</td>\n",
       "      <td>-87.659753</td>\n",
       "      <td>41.984037</td>\n",
       "      <td>-87.652310</td>\n",
       "      <td>member</td>\n",
       "    </tr>\n",
       "    <tr>\n",
       "      <th>2392329</th>\n",
       "      <td>0334987B57662109</td>\n",
       "      <td>docked_bike</td>\n",
       "      <td>2020-12-15 11:56:33</td>\n",
       "      <td>2020-11-25 16:22:04</td>\n",
       "      <td>Broadway &amp; Berwyn Ave</td>\n",
       "      <td>13109</td>\n",
       "      <td>Lakefront Trail &amp; Bryn Mawr Ave</td>\n",
       "      <td>KA1504000152</td>\n",
       "      <td>41.978353</td>\n",
       "      <td>-87.659753</td>\n",
       "      <td>41.984037</td>\n",
       "      <td>-87.652310</td>\n",
       "      <td>member</td>\n",
       "    </tr>\n",
       "  </tbody>\n",
       "</table>\n",
       "</div>"
      ],
      "text/plain": [
       "                  ride_id rideable_type          started_at  \\\n",
       "2378453  021A73F8C18B932D   docked_bike 2020-12-15 12:15:58   \n",
       "2201528  021A73F8C18B932D   docked_bike 2020-11-25 16:35:39   \n",
       "2169467  0334987B57662109   docked_bike 2020-11-25 16:15:04   \n",
       "2392329  0334987B57662109   docked_bike 2020-12-15 11:56:33   \n",
       "\n",
       "                   ended_at       start_station_name start_station_id  \\\n",
       "2378453 2020-11-25 16:48:02  Clark St & Winnemac Ave     TA1309000035   \n",
       "2201528 2020-11-25 16:48:02  Clark St & Winnemac Ave            325.0   \n",
       "2169467 2020-11-25 16:22:04    Broadway & Berwyn Ave            294.0   \n",
       "2392329 2020-11-25 16:22:04    Broadway & Berwyn Ave            13109   \n",
       "\n",
       "                        end_station_name end_station_id  start_lat  start_lng  \\\n",
       "2378453     Ravenswood Ave & Berteau Ave   TA1309000018  41.973347 -87.667855   \n",
       "2201528     Ravenswood Ave & Berteau Ave          314.0  41.973347 -87.667855   \n",
       "2169467  Lakefront Trail & Bryn Mawr Ave          459.0  41.978353 -87.659753   \n",
       "2392329  Lakefront Trail & Bryn Mawr Ave   KA1504000152  41.978353 -87.659753   \n",
       "\n",
       "           end_lat    end_lng member_casual  \n",
       "2378453  41.957921 -87.673567        member  \n",
       "2201528  41.957921 -87.673567        member  \n",
       "2169467  41.984037 -87.652310        member  \n",
       "2392329  41.984037 -87.652310        member  "
      ]
     },
     "execution_count": 13,
     "metadata": {},
     "output_type": "execute_result"
    }
   ],
   "source": [
    "def get_duplicates(field: str) -> pd.DataFrame:\n",
    "    \"\"\"Display rows with duplicate ride_ids\"\"\"\n",
    "    vc = df[field].value_counts()\n",
    "    duplicate_index = vc[vc > 1].index.to_list()\n",
    "    n_duplicates = len(duplicate_index)\n",
    "    print(f\"Number of duplicates for {field}: {n_duplicates}\")\n",
    "    if n_duplicates > 0:\n",
    "        print(\"Sample rows:\")\n",
    "        mask = df[field].isin(duplicate_index)\n",
    "        return df[mask].sort_values(by = field).head(4)\n",
    "    return\n",
    "\n",
    "get_duplicates('ride_id')"
   ]
  },
  {
   "cell_type": "markdown",
   "metadata": {},
   "source": [
    "None of these rows match up perfectly, yet they share several odd similarities:\n",
    "\n",
    "- Start and end station names match\n",
    "- Station ids do not match; the formatting on one side relies on a combination of characters and numbers\n",
    "- Bike rides end at the same time but have very different starting times. One side has 'negative' ride durations, with many bike trips beginning on 2020-12-15 and ending on 2020-11-25. \n",
    "\n",
    "We could investigate further to determine if these 'duplicates' are distinct and were registered incorrectly. However, even if these records represent unique bike rides, the effort it would take to recover or estimate the actual values would likely have little impact on our analysis - especially considering that these errors only show up on 209 rows out of 5 million.\n",
    "\n",
    "We are better off assuming this is a case of bad data and omitting the offending rows from our data frame. We'll try killing two birds with one stone by dropping any rows with a negative ride duration."
   ]
  },
  {
   "cell_type": "code",
   "execution_count": 14,
   "metadata": {
    "ExecuteTime": {
     "end_time": "2022-01-03T02:39:47.649636Z",
     "start_time": "2022-01-03T02:39:46.795639Z"
    },
    "scrolled": true
   },
   "outputs": [
    {
     "name": "stdout",
     "output_type": "stream",
     "text": [
      "Number of rows with negative ride durations: 9872\n"
     ]
    }
   ],
   "source": [
    "mask = (df['ended_at'] - df['started_at']) < pd.Timedelta(\"0 days\")\n",
    "print(\"Number of rows with negative ride durations:\", len(df.loc[mask]))\n",
    "df = df.loc[~mask]"
   ]
  },
  {
   "cell_type": "markdown",
   "metadata": {},
   "source": [
    "So on top of the duplicates we removed, there were quite a few records with negative ride durations. Let's double-check we've gotten rid of all duplicate ride_ids."
   ]
  },
  {
   "cell_type": "code",
   "execution_count": 15,
   "metadata": {
    "ExecuteTime": {
     "end_time": "2022-01-03T02:39:51.133665Z",
     "start_time": "2022-01-03T02:39:47.652664Z"
    }
   },
   "outputs": [
    {
     "name": "stdout",
     "output_type": "stream",
     "text": [
      "Number of duplicates for ride_id: 0\n"
     ]
    }
   ],
   "source": [
    "get_duplicates('ride_id')"
   ]
  },
  {
   "cell_type": "markdown",
   "metadata": {},
   "source": [
    "It looks like that did the trick.\n",
    "\n",
    "Let's convert rideable_type and member_casual to fit their respective data types:"
   ]
  },
  {
   "cell_type": "code",
   "execution_count": 16,
   "metadata": {
    "ExecuteTime": {
     "end_time": "2022-01-03T02:39:55.776637Z",
     "start_time": "2022-01-03T02:39:51.134635Z"
    },
    "scrolled": true
   },
   "outputs": [
    {
     "name": "stdout",
     "output_type": "stream",
     "text": [
      "Before:\n",
      "rideable_type total memory usage: 306.159839MB\n",
      "member_casual total memory usage: 280.367577MB\n",
      "After:\n",
      "rideable_type total memory usage: 4.450594MB\n",
      "member_casual total memory usage: 4.450513MB\n"
     ]
    }
   ],
   "source": [
    "print(\"Before:\")\n",
    "cols_mem_usage('rideable_type','member_casual')\n",
    "\n",
    "# let's convert these low unique count columns into categories\n",
    "df['rideable_type'] = df['rideable_type'].astype('category')\n",
    "df['member_casual'] = df['member_casual'].astype('category')\n",
    "\n",
    "print(\"After:\")\n",
    "cols_mem_usage('rideable_type','member_casual')\n"
   ]
  },
  {
   "cell_type": "markdown",
   "metadata": {},
   "source": [
    "### Cleaning station ids \n",
    "Now let's enforce consistency in each station id column by converting them into their integer equivalent.\n",
    "\n",
    "Let's see how many station ids contain characters:"
   ]
  },
  {
   "cell_type": "code",
   "execution_count": 17,
   "metadata": {
    "ExecuteTime": {
     "end_time": "2022-01-03T02:40:00.563670Z",
     "start_time": "2022-01-03T02:39:55.778639Z"
    },
    "hide_input": false,
    "scrolled": true
   },
   "outputs": [
    {
     "name": "stdout",
     "output_type": "stream",
     "text": [
      "unique values with characters in start_station_id: 301\n",
      "unique values with characters in end_station_id: 301\n"
     ]
    }
   ],
   "source": [
    "# checking the number of non digit values in start_station_id and end_station_id\n",
    "mask = (df['start_station_id'].astype(str).str.contains(pat = '[^0-9.]', regex = True)) & (df['start_station_id'].notnull())\n",
    "print(f\"unique values with characters in start_station_id: {df.loc[mask, 'start_station_id'].nunique()}\")\n",
    "\n",
    "mask = (df['end_station_id'].astype(str).str.contains(pat = '[^0-9.]', regex = True)) & (df['end_station_id'].notnull())\n",
    "print(f\"unique values with characters in end_station_id: {df.loc[mask, 'end_station_id'].nunique()}\")"
   ]
  },
  {
   "cell_type": "markdown",
   "metadata": {},
   "source": [
    "This doesn't seem to be an isolated issue. Now, it may not be a problem if the data is somehow formatted consistently between integers and non-numeric strings - let's see if that's the case.\n",
    "\n",
    "We'll do that by grouping stations by their ids and checking which stations connect to more than one ID."
   ]
  },
  {
   "cell_type": "code",
   "execution_count": 18,
   "metadata": {
    "ExecuteTime": {
     "end_time": "2022-01-03T02:40:02.094665Z",
     "start_time": "2022-01-03T02:40:00.565661Z"
    },
    "scrolled": true
   },
   "outputs": [
    {
     "name": "stdout",
     "output_type": "stream",
     "text": [
      "Number of inconsistent stations with more than one id: 666\n"
     ]
    }
   ],
   "source": [
    "def get_inconsistent_stations_index() -> pd.Index:\n",
    "    \"\"\"Get a pandas index of stations IDs (start and end) that share multiple names\"\"\"\n",
    "    start_station_ids_df = df.groupby(['start_station_name', 'start_station_id']).size()\n",
    "    end_station_ids_df = df.groupby(['end_station_name', 'end_station_id']).size()\n",
    "    vc1 = start_station_ids_df.reset_index()['start_station_name'].value_counts()\n",
    "    vc2 = end_station_ids_df.reset_index()['end_station_name'].value_counts()\n",
    "    starts = vc1[vc1 > 1].index\n",
    "    ends = vc2[vc2 > 1].index\n",
    "    return starts.union(ends)\n",
    "\n",
    "inconsistent_stations = get_inconsistent_stations_index()\n",
    "\n",
    "print(\"Number of inconsistent stations with more than one id:\",len(inconsistent_stations))"
   ]
  },
  {
   "cell_type": "markdown",
   "metadata": {},
   "source": [
    "So we have some broken participation constraints that we'll have to remediate. We can use our helper dataset to ensure stations have one and only one ID associated with them. However, we're likely to run into mismatches because of station closures, renamings, etc. We'll have to fix that problem first."
   ]
  },
  {
   "cell_type": "code",
   "execution_count": 19,
   "metadata": {
    "ExecuteTime": {
     "end_time": "2022-01-03T02:40:02.110666Z",
     "start_time": "2022-01-03T02:40:02.095638Z"
    }
   },
   "outputs": [
    {
     "data": {
      "text/plain": [
       "{'Broadway & Wilson Ave',\n",
       " 'Chicago Ave & Dempster St',\n",
       " 'HUBBARD ST BIKE CHECKING (LBS-WH-TEST)',\n",
       " 'Halsted St & 63rd St',\n",
       " 'Lake Shore Dr & Belmont Ave',\n",
       " 'Lake Shore Dr & Diversey Pkwy',\n",
       " 'Lake Shore Dr & Monroe St',\n",
       " 'Lake Shore Dr & North Blvd',\n",
       " 'Lake Shore Dr & Ohio St',\n",
       " 'Lake Shore Dr & Wellington Ave',\n",
       " 'Malcolm X College',\n",
       " 'Marshfield Ave & Cortland St',\n",
       " 'Western Ave & 28th St'}"
      ]
     },
     "execution_count": 19,
     "metadata": {},
     "output_type": "execute_result"
    }
   ],
   "source": [
    "mask = inconsistent_stations.isin(stations_df.index)\n",
    "mismatched_names = set(inconsistent_stations[~mask])\n",
    "mismatched_names"
   ]
  },
  {
   "cell_type": "markdown",
   "metadata": {},
   "source": [
    "We've got several mismatches. \n",
    "\n",
    "Let's see if we can update the mismatches in our dataset to reflect the present and enforce some consistency."
   ]
  },
  {
   "cell_type": "code",
   "execution_count": 20,
   "metadata": {
    "ExecuteTime": {
     "end_time": "2022-01-03T02:40:03.879666Z",
     "start_time": "2022-01-03T02:40:02.112652Z"
    }
   },
   "outputs": [
    {
     "data": {
      "text/html": [
       "<div>\n",
       "<style scoped>\n",
       "    .dataframe tbody tr th:only-of-type {\n",
       "        vertical-align: middle;\n",
       "    }\n",
       "\n",
       "    .dataframe tbody tr th {\n",
       "        vertical-align: top;\n",
       "    }\n",
       "\n",
       "    .dataframe thead th {\n",
       "        text-align: right;\n",
       "    }\n",
       "</style>\n",
       "<table border=\"1\" class=\"dataframe\">\n",
       "  <thead>\n",
       "    <tr style=\"text-align: right;\">\n",
       "      <th></th>\n",
       "      <th>uncleaned_ids</th>\n",
       "      <th>valid_associated_id</th>\n",
       "      <th>associated_id_official_name</th>\n",
       "      <th>change_name_to</th>\n",
       "      <th>change_id_to</th>\n",
       "    </tr>\n",
       "  </thead>\n",
       "  <tbody>\n",
       "    <tr>\n",
       "      <th>Halsted St &amp; 63rd St</th>\n",
       "      <td>[388.0, KA1503000055]</td>\n",
       "      <td>388.0</td>\n",
       "      <td>Halsted &amp; 63rd - Kennedy-King Vaccination Site</td>\n",
       "      <td>Halsted &amp; 63rd - Kennedy-King Vaccination Site</td>\n",
       "      <td>388.0</td>\n",
       "    </tr>\n",
       "    <tr>\n",
       "      <th>Lake Shore Dr &amp; Diversey Pkwy</th>\n",
       "      <td>[329.0, TA1309000039]</td>\n",
       "      <td>329.0</td>\n",
       "      <td>DuSable Lake Shore Dr &amp; Diversey Pkwy</td>\n",
       "      <td>DuSable Lake Shore Dr &amp; Diversey Pkwy</td>\n",
       "      <td>329.0</td>\n",
       "    </tr>\n",
       "    <tr>\n",
       "      <th>HUBBARD ST BIKE CHECKING (LBS-WH-TEST)</th>\n",
       "      <td>[671.0, Hubbard Bike-checking (LBS-WH-TEST)]</td>\n",
       "      <td>NaN</td>\n",
       "      <td>None</td>\n",
       "      <td>HUBBARD ST BIKE CHECKING (LBS-WH-TEST)</td>\n",
       "      <td>671.0</td>\n",
       "    </tr>\n",
       "    <tr>\n",
       "      <th>Lake Shore Dr &amp; North Blvd</th>\n",
       "      <td>[268.0, LF-005]</td>\n",
       "      <td>268.0</td>\n",
       "      <td>DuSable Lake Shore Dr &amp; North Blvd</td>\n",
       "      <td>DuSable Lake Shore Dr &amp; North Blvd</td>\n",
       "      <td>268.0</td>\n",
       "    </tr>\n",
       "    <tr>\n",
       "      <th>Western Ave &amp; 28th St</th>\n",
       "      <td>[446.0, KA1504000168]</td>\n",
       "      <td>446.0</td>\n",
       "      <td>Western &amp; 28th - Velasquez Institute Vaccinati...</td>\n",
       "      <td>Western &amp; 28th - Velasquez Institute Vaccinati...</td>\n",
       "      <td>446.0</td>\n",
       "    </tr>\n",
       "    <tr>\n",
       "      <th>Lake Shore Dr &amp; Belmont Ave</th>\n",
       "      <td>[334.0, TA1309000049]</td>\n",
       "      <td>334.0</td>\n",
       "      <td>DuSable Lake Shore Dr &amp; Belmont Ave</td>\n",
       "      <td>DuSable Lake Shore Dr &amp; Belmont Ave</td>\n",
       "      <td>334.0</td>\n",
       "    </tr>\n",
       "    <tr>\n",
       "      <th>Malcolm X College</th>\n",
       "      <td>[631.0, 631]</td>\n",
       "      <td>631.0</td>\n",
       "      <td>Malcolm X College Vaccination Site</td>\n",
       "      <td>Malcolm X College Vaccination Site</td>\n",
       "      <td>631.0</td>\n",
       "    </tr>\n",
       "    <tr>\n",
       "      <th>Chicago Ave &amp; Dempster St</th>\n",
       "      <td>[625.0, E011]</td>\n",
       "      <td>625.0</td>\n",
       "      <td>Dodge Ave &amp; Main St</td>\n",
       "      <td>Chicago Ave &amp; Dempster St</td>\n",
       "      <td>625.0</td>\n",
       "    </tr>\n",
       "    <tr>\n",
       "      <th>Lake Shore Dr &amp; Wellington Ave</th>\n",
       "      <td>[157.0, TA1307000041]</td>\n",
       "      <td>157.0</td>\n",
       "      <td>DuSable Lake Shore Dr &amp; Wellington Ave</td>\n",
       "      <td>DuSable Lake Shore Dr &amp; Wellington Ave</td>\n",
       "      <td>157.0</td>\n",
       "    </tr>\n",
       "    <tr>\n",
       "      <th>Marshfield Ave &amp; Cortland St</th>\n",
       "      <td>[58.0, TA1305000039]</td>\n",
       "      <td>58.0</td>\n",
       "      <td>Elston Ave &amp; Cortland St</td>\n",
       "      <td>Marshfield Ave &amp; Cortland St</td>\n",
       "      <td>58.0</td>\n",
       "    </tr>\n",
       "    <tr>\n",
       "      <th>Lake Shore Dr &amp; Ohio St</th>\n",
       "      <td>[99.0, TA1306000029]</td>\n",
       "      <td>99.0</td>\n",
       "      <td>DuSable Lake Shore Dr &amp; Ohio St</td>\n",
       "      <td>DuSable Lake Shore Dr &amp; Ohio St</td>\n",
       "      <td>99.0</td>\n",
       "    </tr>\n",
       "    <tr>\n",
       "      <th>Lake Shore Dr &amp; Monroe St</th>\n",
       "      <td>[76.0, 13300]</td>\n",
       "      <td>76.0</td>\n",
       "      <td>DuSable Lake Shore Dr &amp; Monroe St</td>\n",
       "      <td>DuSable Lake Shore Dr &amp; Monroe St</td>\n",
       "      <td>76.0</td>\n",
       "    </tr>\n",
       "    <tr>\n",
       "      <th>Broadway &amp; Wilson Ave</th>\n",
       "      <td>[293.0, 13074]</td>\n",
       "      <td>293.0</td>\n",
       "      <td>Broadway &amp; Wilson - Truman College Vaccination...</td>\n",
       "      <td>Broadway &amp; Wilson - Truman College Vaccination...</td>\n",
       "      <td>293.0</td>\n",
       "    </tr>\n",
       "  </tbody>\n",
       "</table>\n",
       "</div>"
      ],
      "text/plain": [
       "                                                                       uncleaned_ids  \\\n",
       "Halsted St & 63rd St                                           [388.0, KA1503000055]   \n",
       "Lake Shore Dr & Diversey Pkwy                                  [329.0, TA1309000039]   \n",
       "HUBBARD ST BIKE CHECKING (LBS-WH-TEST)  [671.0, Hubbard Bike-checking (LBS-WH-TEST)]   \n",
       "Lake Shore Dr & North Blvd                                           [268.0, LF-005]   \n",
       "Western Ave & 28th St                                          [446.0, KA1504000168]   \n",
       "Lake Shore Dr & Belmont Ave                                    [334.0, TA1309000049]   \n",
       "Malcolm X College                                                       [631.0, 631]   \n",
       "Chicago Ave & Dempster St                                              [625.0, E011]   \n",
       "Lake Shore Dr & Wellington Ave                                 [157.0, TA1307000041]   \n",
       "Marshfield Ave & Cortland St                                    [58.0, TA1305000039]   \n",
       "Lake Shore Dr & Ohio St                                         [99.0, TA1306000029]   \n",
       "Lake Shore Dr & Monroe St                                              [76.0, 13300]   \n",
       "Broadway & Wilson Ave                                                 [293.0, 13074]   \n",
       "\n",
       "                                        valid_associated_id  \\\n",
       "Halsted St & 63rd St                                  388.0   \n",
       "Lake Shore Dr & Diversey Pkwy                         329.0   \n",
       "HUBBARD ST BIKE CHECKING (LBS-WH-TEST)                  NaN   \n",
       "Lake Shore Dr & North Blvd                            268.0   \n",
       "Western Ave & 28th St                                 446.0   \n",
       "Lake Shore Dr & Belmont Ave                           334.0   \n",
       "Malcolm X College                                     631.0   \n",
       "Chicago Ave & Dempster St                             625.0   \n",
       "Lake Shore Dr & Wellington Ave                        157.0   \n",
       "Marshfield Ave & Cortland St                           58.0   \n",
       "Lake Shore Dr & Ohio St                                99.0   \n",
       "Lake Shore Dr & Monroe St                              76.0   \n",
       "Broadway & Wilson Ave                                 293.0   \n",
       "\n",
       "                                                              associated_id_official_name  \\\n",
       "Halsted St & 63rd St                       Halsted & 63rd - Kennedy-King Vaccination Site   \n",
       "Lake Shore Dr & Diversey Pkwy                       DuSable Lake Shore Dr & Diversey Pkwy   \n",
       "HUBBARD ST BIKE CHECKING (LBS-WH-TEST)                                               None   \n",
       "Lake Shore Dr & North Blvd                             DuSable Lake Shore Dr & North Blvd   \n",
       "Western Ave & 28th St                   Western & 28th - Velasquez Institute Vaccinati...   \n",
       "Lake Shore Dr & Belmont Ave                           DuSable Lake Shore Dr & Belmont Ave   \n",
       "Malcolm X College                                      Malcolm X College Vaccination Site   \n",
       "Chicago Ave & Dempster St                                             Dodge Ave & Main St   \n",
       "Lake Shore Dr & Wellington Ave                     DuSable Lake Shore Dr & Wellington Ave   \n",
       "Marshfield Ave & Cortland St                                     Elston Ave & Cortland St   \n",
       "Lake Shore Dr & Ohio St                                   DuSable Lake Shore Dr & Ohio St   \n",
       "Lake Shore Dr & Monroe St                               DuSable Lake Shore Dr & Monroe St   \n",
       "Broadway & Wilson Ave                   Broadway & Wilson - Truman College Vaccination...   \n",
       "\n",
       "                                                                           change_name_to  \\\n",
       "Halsted St & 63rd St                       Halsted & 63rd - Kennedy-King Vaccination Site   \n",
       "Lake Shore Dr & Diversey Pkwy                       DuSable Lake Shore Dr & Diversey Pkwy   \n",
       "HUBBARD ST BIKE CHECKING (LBS-WH-TEST)             HUBBARD ST BIKE CHECKING (LBS-WH-TEST)   \n",
       "Lake Shore Dr & North Blvd                             DuSable Lake Shore Dr & North Blvd   \n",
       "Western Ave & 28th St                   Western & 28th - Velasquez Institute Vaccinati...   \n",
       "Lake Shore Dr & Belmont Ave                           DuSable Lake Shore Dr & Belmont Ave   \n",
       "Malcolm X College                                      Malcolm X College Vaccination Site   \n",
       "Chicago Ave & Dempster St                                       Chicago Ave & Dempster St   \n",
       "Lake Shore Dr & Wellington Ave                     DuSable Lake Shore Dr & Wellington Ave   \n",
       "Marshfield Ave & Cortland St                                 Marshfield Ave & Cortland St   \n",
       "Lake Shore Dr & Ohio St                                   DuSable Lake Shore Dr & Ohio St   \n",
       "Lake Shore Dr & Monroe St                               DuSable Lake Shore Dr & Monroe St   \n",
       "Broadway & Wilson Ave                   Broadway & Wilson - Truman College Vaccination...   \n",
       "\n",
       "                                        change_id_to  \n",
       "Halsted St & 63rd St                           388.0  \n",
       "Lake Shore Dr & Diversey Pkwy                  329.0  \n",
       "HUBBARD ST BIKE CHECKING (LBS-WH-TEST)         671.0  \n",
       "Lake Shore Dr & North Blvd                     268.0  \n",
       "Western Ave & 28th St                          446.0  \n",
       "Lake Shore Dr & Belmont Ave                    334.0  \n",
       "Malcolm X College                              631.0  \n",
       "Chicago Ave & Dempster St                      625.0  \n",
       "Lake Shore Dr & Wellington Ave                 157.0  \n",
       "Marshfield Ave & Cortland St                    58.0  \n",
       "Lake Shore Dr & Ohio St                         99.0  \n",
       "Lake Shore Dr & Monroe St                       76.0  \n",
       "Broadway & Wilson Ave                          293.0  "
      ]
     },
     "execution_count": 20,
     "metadata": {},
     "output_type": "execute_result"
    }
   ],
   "source": [
    "def get_mismatches_and_suggested_replacements_df() -> pd.DataFrame:\n",
    "    \"\"\"Find any mismatches to our helper active stations set and find out if they have any close relations to other IDs/names\"\"\"\n",
    "    start_station_ids_df = df.groupby(['start_station_name', 'start_station_id']).size()\n",
    "    end_station_ids_df = df.groupby(['end_station_name', 'end_station_id']).size()\n",
    "\n",
    "    start_station_ids_df.index.set_names(['station_name', 'associated_id'], inplace=True)\n",
    "    end_station_ids_df.index.set_names(['station_name', 'associated_id'], inplace=True)\n",
    "\n",
    "    # tabulate total id frequency under each name\n",
    "    station_ids_count_df = pd.concat([start_station_ids_df.rename(\"start\"), end_station_ids_df.rename(\"end\")], axis=1)\n",
    "    station_ids_count_df[\"count\"] = station_ids_count_df['start'] + station_ids_count_df['end']\n",
    "    station_ids_count_df = station_ids_count_df.drop(['start', 'end'], axis = 1)\n",
    "\n",
    "    clean_station_names = list(stations_df.index)\n",
    "    global mismatches_dict\n",
    "    \n",
    "    for mismatch in mismatches_dict:\n",
    "        associated_name = None \n",
    "        valid_associated_id = None\n",
    "        # lists ids from most frequent to least frequent\n",
    "        uncleaned_ids = station_ids_count_df.loc[mismatch].index.tolist()\n",
    "        \n",
    "        # try to find a valid id that lines up with the official set\n",
    "        for id in uncleaned_ids:\n",
    "            if re.match(r\"[+-]?([0-9]*[.])?[0-9]+\", str(id)) and stations_df.loc[stations_df[\"ID\"] == int(id)].index.size > 0:\n",
    "                associated_name = stations_df.loc[stations_df[\"ID\"] == int(id)].index[0]\n",
    "                valid_associated_id = id \n",
    "                break\n",
    "\n",
    "        # get the three closest name matches from the official set \n",
    "        closest_names = difflib.get_close_matches(mismatch, clean_station_names, 3)\n",
    "        change_id_to = None \n",
    "        change_name_to = None \n",
    "\n",
    "        # try to find an official name that lines up with the mismatch's based on id matching\n",
    "        for name in closest_names:\n",
    "            official_id = stations_df.loc[stations_df.index == name][\"ID\"][0]\n",
    "            if str(official_id) in uncleaned_ids:\n",
    "                change_id_to = official_id\n",
    "                change_name_to = name\n",
    "                break\n",
    "\n",
    "        \"\"\" \n",
    "        if no closest names matched with their id, but an id associated with the mismatch did match up,\n",
    "        check to see if the associated name has enough similarities with our mismatch. \n",
    "        if it does, we can say with some certainty that we've found our match.\n",
    "        \"\"\"\n",
    "        if change_name_to is None and len(uncleaned_ids) > 0 and associated_name is not None:\n",
    "            # check that the uncleaned name is largely within the official associated id name\n",
    "            text = mismatch.split(\" \")\n",
    "            keywords = []\n",
    "            for word in text:\n",
    "                if len(word) > 3: # disregard small keywords like ave, st \n",
    "                    keywords.append(word)\n",
    "            n_keywords = len(keywords)\n",
    "            n_matches = 0 \n",
    "            for keyword in keywords:\n",
    "                if keyword in associated_name:\n",
    "                    n_matches += 1 \n",
    "            \n",
    "            if n_matches == n_keywords:\n",
    "                change_name_to = associated_name\n",
    "                change_id_to = valid_associated_id \n",
    "\n",
    "        \"\"\"\n",
    "        by this point, if no matches were made, then neither an associated id or a \n",
    "        similar name is on the official list. In which case, we'll just assign the\n",
    "        most common id and leave the name as is.\n",
    "        \"\"\"\n",
    "        if change_id_to is None and change_name_to is None:\n",
    "            # update to most common associated id since no match was found\n",
    "            change_id_to = uncleaned_ids[0]\n",
    "            # keep the name the same \n",
    "            change_name_to = mismatch\n",
    "\n",
    "        mismatches_dict[mismatch] = {\n",
    "            'uncleaned_ids': uncleaned_ids,\n",
    "            'valid_associated_id': valid_associated_id,\n",
    "            'associated_id_official_name': associated_name,\n",
    "            'change_name_to': change_name_to,\n",
    "            'change_id_to': change_id_to,\n",
    "        }\n",
    "    \n",
    "    return pd.DataFrame.from_dict(mismatches_dict, orient = 'index')\n",
    "    \n",
    "mismatches_dict = dict.fromkeys(mismatched_names)\n",
    "\n",
    "get_mismatches_and_suggested_replacements_df()"
   ]
  },
  {
   "cell_type": "markdown",
   "metadata": {},
   "source": [
    "Most of these look like they make sense, with the id correctly linked with station names that were renamed. \n",
    "\n",
    "There are two suspiciously different stations that we'll manually look up to ensure accuracy.\n",
    "- Chicago Ave & Dempster St -> Dodge Ave & Main St\t\n",
    "- Marshfield Ave & Cortland St -> Elston Ave & Cortland St\n",
    "\n",
    "These original stations were closed and replaced with a new docking station at a different but close-by location. Let's keep the original station and its associated name, id, and coordinates to maintain consistency.\n",
    "\n",
    "Let's see if we can look into the remaining station absent from the official stations' data set:\n",
    "- HUBBARD ST BIKE CHECKING (LBS-WH-TEST)\n",
    "\n",
    "It appears that this station is a testing docking station, which I'm surmising based on the absence of any Google results and lack of associations with the official active stations set. On lookup, we've also found another invalid station that acts as Cyclistic's base; Base - 2132 W Hubbard Warehouse.\n",
    "\n",
    "Since these stations are presumingly unavailable to customers and only used for testing, we'll remove any rows that contain these docking stations as either a start or endpoint."
   ]
  },
  {
   "cell_type": "code",
   "execution_count": 21,
   "metadata": {
    "ExecuteTime": {
     "end_time": "2022-01-03T02:40:05.380788Z",
     "start_time": "2022-01-03T02:40:03.880638Z"
    }
   },
   "outputs": [],
   "source": [
    "mask = (df['start_station_name'] == 'HUBBARD ST BIKE CHECKING (LBS-WH-TEST)') | (df['end_station_name'] == 'HUBBARD ST BIKE CHECKING (LBS-WH-TEST)')\n",
    "df = df.loc[~mask]\n",
    "mask = (df['start_station_name'] == 'Base - 2132 W Hubbard Warehouse') | (df['end_station_name'] == 'Base - 2132 W Hubbard Warehouse')\n",
    "df = df.loc[~mask]"
   ]
  },
  {
   "cell_type": "markdown",
   "metadata": {},
   "source": [
    "Moving on to the mismatch cleansing:"
   ]
  },
  {
   "cell_type": "code",
   "execution_count": 22,
   "metadata": {
    "ExecuteTime": {
     "end_time": "2022-01-03T02:40:33.998665Z",
     "start_time": "2022-01-03T02:40:05.381669Z"
    }
   },
   "outputs": [
    {
     "name": "stdout",
     "output_type": "stream",
     "text": [
      "Cleaning station Halsted St & 63rd St...\n",
      "Cleaning station Lake Shore Dr & Diversey Pkwy...\n",
      "Cleaning station HUBBARD ST BIKE CHECKING (LBS-WH-TEST)...\n",
      "Cleaning station Lake Shore Dr & North Blvd...\n",
      "Cleaning station Western Ave & 28th St...\n",
      "Cleaning station Lake Shore Dr & Belmont Ave...\n",
      "Cleaning station Malcolm X College...\n",
      "Cleaning station Chicago Ave & Dempster St...\n",
      "Cleaning station Lake Shore Dr & Wellington Ave...\n",
      "Cleaning station Marshfield Ave & Cortland St...\n",
      "Cleaning station Lake Shore Dr & Ohio St...\n",
      "Cleaning station Lake Shore Dr & Monroe St...\n",
      "Cleaning station Broadway & Wilson Ave...\n"
     ]
    }
   ],
   "source": [
    "def cleanse_mismatches() -> None:\n",
    "    \"\"\"\n",
    "    For every mismatched station name, we'll apply the changes we've brought in the table above\n",
    "    by treating the associated station's unclean ids, and then moving on to the name \n",
    "    \"\"\"\n",
    "    \n",
    "    unchanging_names = ['Marshfield Ave & Cortland St', 'Chicago Ave & Dempster St']\n",
    "    for uncleaned_name in mismatches_dict:\n",
    "        print(f\"Cleaning station {uncleaned_name}...\")\n",
    "        cleaned_name = mismatches_dict[uncleaned_name]['change_name_to']\n",
    "        cleaned_id = str(mismatches_dict[uncleaned_name]['change_id_to'])\n",
    "        \n",
    "        # let's clean the bad ids first, since we need the unclean name to work with\n",
    "        for uncleaned_id in mismatches_dict[uncleaned_name]['uncleaned_ids']:\n",
    "            mask = (df['start_station_id'] == uncleaned_id) & (df['start_station_name'] == uncleaned_name)\n",
    "            df.loc[mask, 'start_station_id'] = cleaned_id\n",
    "            mask = (df['end_station_id'] == uncleaned_id) & (df['end_station_name'] == uncleaned_name)\n",
    "            df.loc[mask, 'end_station_id'] = cleaned_id\n",
    "\n",
    "        # now we treat the names\n",
    "        if uncleaned_name not in unchanging_names:\n",
    "            mask = (df['start_station_name'] == uncleaned_name)\n",
    "            df.loc[mask, 'start_station_name'] = cleaned_name\n",
    "            mask = (df['end_station_name'] == uncleaned_name)\n",
    "            df.loc[mask, 'end_station_name'] = cleaned_name\n",
    "\n",
    "cleanse_mismatches()"
   ]
  },
  {
   "cell_type": "markdown",
   "metadata": {},
   "source": [
    "Now that the mismatches are taken care of, we can take care of cleansing ID inconsistencies for the rest of the dataset. "
   ]
  },
  {
   "cell_type": "code",
   "execution_count": 23,
   "metadata": {
    "ExecuteTime": {
     "end_time": "2022-01-03T02:40:35.351638Z",
     "start_time": "2022-01-03T02:40:33.999639Z"
    },
    "scrolled": true
   },
   "outputs": [
    {
     "name": "stdout",
     "output_type": "stream",
     "text": [
      "Number of inconsistent stations with more than one id: 656\n"
     ]
    }
   ],
   "source": [
    "inconsistent_stations = get_inconsistent_stations_index()\n",
    "print(\"Number of inconsistent stations with more than one id:\",len(inconsistent_stations))"
   ]
  },
  {
   "cell_type": "code",
   "execution_count": 24,
   "metadata": {
    "ExecuteTime": {
     "end_time": "2022-01-03T03:01:32.194613Z",
     "start_time": "2022-01-03T02:40:35.352695Z"
    }
   },
   "outputs": [],
   "source": [
    "def cleanse_id_inconsistencies() -> None:\n",
    "    \"\"\"cleansing ID inconsistencies for the rest of the dataset with the helper dataset\"\"\"\n",
    "\n",
    "    start_station_ids_df = df.groupby(['start_station_name', 'start_station_id']).size()\n",
    "    end_station_ids_df = df.groupby(['end_station_name', 'end_station_id']).size()\n",
    "\n",
    "    vc1 = start_station_ids_df.reset_index()['start_station_name'].value_counts()\n",
    "    vc2 = end_station_ids_df.reset_index()['end_station_name'].value_counts()\n",
    "\n",
    "    vc1.rename('station_name', inplace = True)\n",
    "    vc2.rename('station_name', inplace = True)\n",
    "\n",
    "    start_station_ids_df.index.set_names(['station_name', 'associated_id'], inplace=True)\n",
    "    end_station_ids_df.index.set_names(['station_name', 'associated_id'], inplace=True)\n",
    "\n",
    "    station_ids_count_df = pd.concat([start_station_ids_df.rename(\"start\"), end_station_ids_df.rename(\"end\")], axis=1)\n",
    "    station_ids_count_df[\"count\"] = station_ids_count_df['start'] + station_ids_count_df['end']\n",
    "    station_ids_count_df = station_ids_count_df.drop(['start', 'end'], axis = 1)\n",
    "\n",
    "    consistent_stations = pd.concat([vc1[vc1 == 1], vc2[vc2 == 1]], axis = 0)\n",
    "    # look at stations within the official stations dataset where 1 id is associated with it \n",
    "    mask = consistent_stations.index.isin(stations_df.index.to_list())\n",
    "    consistent_stations = consistent_stations[mask].index.to_list()\n",
    "\n",
    "    \"\"\"\n",
    "    cleaning consistent stations that do not match the official id\n",
    "    \"\"\"\n",
    "    for name in consistent_stations:\n",
    "        mask = station_ids_count_df.index.get_level_values(0) == name\n",
    "        current_id = station_ids_count_df[mask].index.get_level_values(1)[0]\n",
    "        mask = stations_df.index == name\n",
    "        official_id = stations_df.loc[mask, 'ID'][0]\n",
    "        \n",
    "        if try_int(current_id) != str(official_id):\n",
    "            mask = (df['start_station_id'] == current_id) & (df['start_station_name'] == name)\n",
    "            df.loc[mask, 'start_station_id'] = str(official_id)\n",
    "            mask = (df['end_station_id'] == current_id) & (df['end_station_name'] == name)\n",
    "            df.loc[mask, 'end_station_id'] = str(official_id)\n",
    "\n",
    "    mask = stations_df.index.isin(inconsistent_stations)\n",
    "    inconsistent_official_stations = stations_df[mask].index.to_list()\n",
    "\n",
    "    \"\"\"\n",
    "    cleaning inconsistent stations by enforcing a single integer id\n",
    "    \"\"\"\n",
    "    for name in inconsistent_official_stations:\n",
    "        mask = station_ids_count_df.index.get_level_values(0) == name \n",
    "        inconsistent_ids = station_ids_count_df.loc[mask].index.get_level_values(1).to_list()\n",
    "        mask = stations_df.index == name \n",
    "        official_id = stations_df.loc[mask, 'ID'][0]\n",
    "        for id in inconsistent_ids:\n",
    "            if try_int(current_id) != str(official_id):\n",
    "                mask = (df['start_station_id'] == id) & (df['start_station_name'] == name)\n",
    "                df.loc[mask, 'start_station_id'] = str(official_id)\n",
    "                mask = (df['end_station_id'] == id) & (df['end_station_name'] == name)\n",
    "                df.loc[mask, 'end_station_id'] = str(official_id)\n",
    "\n",
    "cleanse_id_inconsistencies()"
   ]
  },
  {
   "cell_type": "code",
   "execution_count": 25,
   "metadata": {
    "ExecuteTime": {
     "end_time": "2022-01-03T03:01:33.373498Z",
     "start_time": "2022-01-03T03:01:32.196491Z"
    },
    "scrolled": true
   },
   "outputs": [
    {
     "name": "stdout",
     "output_type": "stream",
     "text": [
      "Number of inconsistent stations with more than one id: 0\n"
     ]
    }
   ],
   "source": [
    "inconsistent_stations = get_inconsistent_stations_index()\n",
    "print(\"Number of inconsistent stations with more than one id:\",len(inconsistent_stations))"
   ]
  },
  {
   "cell_type": "markdown",
   "metadata": {},
   "source": [
    "All stations now have a single linked station ID."
   ]
  },
  {
   "cell_type": "markdown",
   "metadata": {},
   "source": [
    "Let's check to see if any leftover station IDs didn't get processed for whatever reason."
   ]
  },
  {
   "cell_type": "code",
   "execution_count": 26,
   "metadata": {
    "ExecuteTime": {
     "end_time": "2022-01-03T03:01:37.470462Z",
     "start_time": "2022-01-03T03:01:33.379476Z"
    },
    "scrolled": true
   },
   "outputs": [
    {
     "name": "stdout",
     "output_type": "stream",
     "text": [
      "Bad station id records remaining: 26\n"
     ]
    },
    {
     "data": {
      "text/html": [
       "<div>\n",
       "<style scoped>\n",
       "    .dataframe tbody tr th:only-of-type {\n",
       "        vertical-align: middle;\n",
       "    }\n",
       "\n",
       "    .dataframe tbody tr th {\n",
       "        vertical-align: top;\n",
       "    }\n",
       "\n",
       "    .dataframe thead th {\n",
       "        text-align: right;\n",
       "    }\n",
       "</style>\n",
       "<table border=\"1\" class=\"dataframe\">\n",
       "  <thead>\n",
       "    <tr style=\"text-align: right;\">\n",
       "      <th></th>\n",
       "      <th>ride_id</th>\n",
       "      <th>rideable_type</th>\n",
       "      <th>started_at</th>\n",
       "      <th>ended_at</th>\n",
       "      <th>start_station_name</th>\n",
       "      <th>start_station_id</th>\n",
       "      <th>end_station_name</th>\n",
       "      <th>end_station_id</th>\n",
       "      <th>start_lat</th>\n",
       "      <th>start_lng</th>\n",
       "      <th>end_lat</th>\n",
       "      <th>end_lng</th>\n",
       "      <th>member_casual</th>\n",
       "    </tr>\n",
       "  </thead>\n",
       "  <tbody>\n",
       "    <tr>\n",
       "      <th>3754953</th>\n",
       "      <td>40E0B4BC2C2F46C8</td>\n",
       "      <td>electric_bike</td>\n",
       "      <td>2021-06-23 11:21:04</td>\n",
       "      <td>2021-06-23 11:21:10</td>\n",
       "      <td>WEST CHI-WATSON</td>\n",
       "      <td>DIVVY 001</td>\n",
       "      <td>WEST CHI-WATSON</td>\n",
       "      <td>DIVVY 001</td>\n",
       "      <td>41.894792</td>\n",
       "      <td>-87.730906</td>\n",
       "      <td>41.894792</td>\n",
       "      <td>-87.730903</td>\n",
       "      <td>casual</td>\n",
       "    </tr>\n",
       "    <tr>\n",
       "      <th>3754954</th>\n",
       "      <td>77328DAA369CF5DC</td>\n",
       "      <td>electric_bike</td>\n",
       "      <td>2021-06-23 16:18:20</td>\n",
       "      <td>2021-06-23 16:18:26</td>\n",
       "      <td>WEST CHI-WATSON</td>\n",
       "      <td>DIVVY 001</td>\n",
       "      <td>WEST CHI-WATSON</td>\n",
       "      <td>DIVVY 001</td>\n",
       "      <td>41.894710</td>\n",
       "      <td>-87.730827</td>\n",
       "      <td>41.894739</td>\n",
       "      <td>-87.730870</td>\n",
       "      <td>casual</td>\n",
       "    </tr>\n",
       "    <tr>\n",
       "      <th>3754955</th>\n",
       "      <td>740E905067040E77</td>\n",
       "      <td>electric_bike</td>\n",
       "      <td>2021-06-23 10:14:56</td>\n",
       "      <td>2021-06-23 10:15:01</td>\n",
       "      <td>WEST CHI-WATSON</td>\n",
       "      <td>DIVVY 001</td>\n",
       "      <td>WEST CHI-WATSON</td>\n",
       "      <td>DIVVY 001</td>\n",
       "      <td>41.894739</td>\n",
       "      <td>-87.730896</td>\n",
       "      <td>41.894755</td>\n",
       "      <td>-87.730867</td>\n",
       "      <td>casual</td>\n",
       "    </tr>\n",
       "    <tr>\n",
       "      <th>3754956</th>\n",
       "      <td>D19B4E87A1C9190D</td>\n",
       "      <td>electric_bike</td>\n",
       "      <td>2021-06-23 12:10:54</td>\n",
       "      <td>2021-06-23 12:11:02</td>\n",
       "      <td>WEST CHI-WATSON</td>\n",
       "      <td>DIVVY 001</td>\n",
       "      <td>WEST CHI-WATSON</td>\n",
       "      <td>DIVVY 001</td>\n",
       "      <td>41.894768</td>\n",
       "      <td>-87.730897</td>\n",
       "      <td>41.894777</td>\n",
       "      <td>-87.730909</td>\n",
       "      <td>casual</td>\n",
       "    </tr>\n",
       "  </tbody>\n",
       "</table>\n",
       "</div>"
      ],
      "text/plain": [
       "                  ride_id  rideable_type          started_at  \\\n",
       "3754953  40E0B4BC2C2F46C8  electric_bike 2021-06-23 11:21:04   \n",
       "3754954  77328DAA369CF5DC  electric_bike 2021-06-23 16:18:20   \n",
       "3754955  740E905067040E77  electric_bike 2021-06-23 10:14:56   \n",
       "3754956  D19B4E87A1C9190D  electric_bike 2021-06-23 12:10:54   \n",
       "\n",
       "                   ended_at start_station_name start_station_id  \\\n",
       "3754953 2021-06-23 11:21:10    WEST CHI-WATSON        DIVVY 001   \n",
       "3754954 2021-06-23 16:18:26    WEST CHI-WATSON        DIVVY 001   \n",
       "3754955 2021-06-23 10:15:01    WEST CHI-WATSON        DIVVY 001   \n",
       "3754956 2021-06-23 12:11:02    WEST CHI-WATSON        DIVVY 001   \n",
       "\n",
       "        end_station_name end_station_id  start_lat  start_lng    end_lat  \\\n",
       "3754953  WEST CHI-WATSON      DIVVY 001  41.894792 -87.730906  41.894792   \n",
       "3754954  WEST CHI-WATSON      DIVVY 001  41.894710 -87.730827  41.894739   \n",
       "3754955  WEST CHI-WATSON      DIVVY 001  41.894739 -87.730896  41.894755   \n",
       "3754956  WEST CHI-WATSON      DIVVY 001  41.894768 -87.730897  41.894777   \n",
       "\n",
       "           end_lng member_casual  \n",
       "3754953 -87.730903        casual  \n",
       "3754954 -87.730870        casual  \n",
       "3754955 -87.730867        casual  \n",
       "3754956 -87.730909        casual  "
      ]
     },
     "execution_count": 26,
     "metadata": {},
     "output_type": "execute_result"
    }
   ],
   "source": [
    "# for stations outside of the official set\n",
    "mask = (df['start_station_id'].str.contains('[A-Za-z]', na=False)) | (df['end_station_id'].str.contains('[A-Za-z]', na=False))\n",
    "bad_station_ids_df = df.loc[mask]\n",
    "print(\"Bad station id records remaining:\", len(bad_station_ids_df))\n",
    "bad_station_ids_df.head(4)"
   ]
  },
  {
   "cell_type": "markdown",
   "metadata": {},
   "source": [
    "We've got another set of rows with a single inactive station absent from official records. These all look like they were test rides based on the ride duration and end station. Let's check to see if there are any legitimate bike rides with the same station name."
   ]
  },
  {
   "cell_type": "code",
   "execution_count": 27,
   "metadata": {
    "ExecuteTime": {
     "end_time": "2022-01-03T03:01:37.870493Z",
     "start_time": "2022-01-03T03:01:37.471463Z"
    }
   },
   "outputs": [
    {
     "name": "stdout",
     "output_type": "stream",
     "text": [
      "Records with WEST CHI-WATSON as the station name: 26\n"
     ]
    }
   ],
   "source": [
    "mask = (df['start_station_name'] == 'WEST CHI-WATSON') | (df['end_station_name'] == 'WEST CHI-WATSON')\n",
    "print(\"Records with WEST CHI-WATSON as the station name:\", len(df.loc[mask]))"
   ]
  },
  {
   "cell_type": "markdown",
   "metadata": {},
   "source": [
    "Those are the same records as the above, so it's safe to remove them"
   ]
  },
  {
   "cell_type": "code",
   "execution_count": 28,
   "metadata": {
    "ExecuteTime": {
     "end_time": "2022-01-03T03:01:38.285461Z",
     "start_time": "2022-01-03T03:01:37.872462Z"
    }
   },
   "outputs": [],
   "source": [
    "df = df.loc[~mask]"
   ]
  },
  {
   "cell_type": "markdown",
   "metadata": {},
   "source": [
    "### Treating missing values\n",
    "Before we can convert our station ids into the proper data types, we'll need to deal with missing values (i.e. NaNs).\n",
    "\n",
    "Let's see if we can find any patterns:"
   ]
  },
  {
   "cell_type": "code",
   "execution_count": 29,
   "metadata": {
    "ExecuteTime": {
     "end_time": "2022-01-03T03:01:38.922462Z",
     "start_time": "2022-01-03T03:01:38.286462Z"
    }
   },
   "outputs": [
    {
     "data": {
      "text/plain": [
       "ride_id                    0\n",
       "rideable_type              0\n",
       "started_at                 0\n",
       "ended_at                   0\n",
       "start_station_name    281945\n",
       "start_station_id      282570\n",
       "end_station_name      314977\n",
       "end_station_id        315438\n",
       "start_lat                  0\n",
       "start_lng                  0\n",
       "end_lat                 5262\n",
       "end_lng                 5262\n",
       "member_casual              0\n",
       "dtype: int64"
      ]
     },
     "execution_count": 29,
     "metadata": {},
     "output_type": "execute_result"
    }
   ],
   "source": [
    "df.isna().sum()"
   ]
  },
  {
   "cell_type": "markdown",
   "metadata": {},
   "source": [
    "Most missing values are associated with missing station identifiers (name and id). We could either delete these rows or use inference with GPS coordinates to fill in the station names and IDs. Any other methods to deal with missing values are out of the question since we can't use forward fills, backward fills, or average fills without imposing significant bias on our dataset. \n",
    "\n",
    "Using inference with the GPS coordinates would be incredibly problematic with the variance of GPS coordinates, and the proximity of each station. Another thing to consider is that these missing values only comprise 10% of our primary dataset. We can still make good use of the rest of the dataset without compromising our findings since the other 90% will be more than enough to accurately represent consumer behaviors from both Casuals and Members.\n",
    "\n",
    "So let's drop any rows with missing station names or station ids."
   ]
  },
  {
   "cell_type": "code",
   "execution_count": 30,
   "metadata": {
    "ExecuteTime": {
     "end_time": "2022-01-03T03:01:40.228613Z",
     "start_time": "2022-01-03T03:01:39.007492Z"
    },
    "scrolled": true
   },
   "outputs": [],
   "source": [
    "mask = (df['start_station_name'].isna()) | (df['start_station_id'].isna())\n",
    "df = df.loc[~mask]\n",
    "mask = (df['end_station_name'].isna()) | (df['end_station_id'].isna())\n",
    "df = df.loc[~mask]"
   ]
  },
  {
   "cell_type": "markdown",
   "metadata": {},
   "source": [
    "### Converting station IDs\n",
    "Now that we've cleaned all the dirty data, we can convert the station ID columns into more efficient formats"
   ]
  },
  {
   "cell_type": "code",
   "execution_count": 31,
   "metadata": {
    "ExecuteTime": {
     "end_time": "2022-01-03T03:01:43.656512Z",
     "start_time": "2022-01-03T03:01:40.229463Z"
    },
    "scrolled": false
   },
   "outputs": [
    {
     "name": "stdout",
     "output_type": "stream",
     "text": [
      "Before:\n",
      "start_station_id total memory usage: 239.104771MB\n",
      "end_station_id total memory usage: 239.124675MB\n",
      "After:\n",
      "start_station_id total memory usage: 32.120368MB\n",
      "end_station_id total memory usage: 32.120368MB\n"
     ]
    }
   ],
   "source": [
    "print(\"Before:\")\n",
    "cols_mem_usage('start_station_id','end_station_id')\n",
    "\n",
    "df['start_station_id'] = df['start_station_id'].astype(float).astype(np.uint64)\n",
    "df['end_station_id'] = df['end_station_id'].astype(float).astype(np.uint64)\n",
    "\n",
    "print(\"After:\")\n",
    "cols_mem_usage('start_station_id','end_station_id')\n"
   ]
  },
  {
   "cell_type": "markdown",
   "metadata": {},
   "source": [
    "### Adding practical columns for analysis\n",
    "We'll add important columns to assist us in our analysis phase.\n",
    " \n",
    "- \"ride_length\": the length of each ride in minute format\n",
    "- \"start_day_of_week\": the day of the week when the bike was picked up (0 = Monday, 6 = Sunday)\n",
    "- \"end_day_of_week\": the day of the week when the bike was dropped off (0 = Monday, 6 = Sunday)\n",
    "- \"distance\": the great circle distance between the start and end station"
   ]
  },
  {
   "cell_type": "code",
   "execution_count": 32,
   "metadata": {
    "ExecuteTime": {
     "end_time": "2022-01-03T03:01:44.273614Z",
     "start_time": "2022-01-03T03:01:43.658461Z"
    },
    "hide_input": false
   },
   "outputs": [],
   "source": [
    "df['ride_length'] = (df['ended_at'] - df['started_at'])/np.timedelta64(1, 'm') # turn it into minutes\n",
    "df['start_day_of_week'] = df['started_at'].dt.dayofweek\n",
    "df['end_day_of_week'] = df['started_at'].dt.dayofweek"
   ]
  },
  {
   "cell_type": "code",
   "execution_count": 33,
   "metadata": {
    "ExecuteTime": {
     "end_time": "2022-01-03T03:01:44.623462Z",
     "start_time": "2022-01-03T03:01:44.274515Z"
    }
   },
   "outputs": [],
   "source": [
    "def haversine(lat1, lon1, lat2, lon2):\n",
    "    \"\"\"\n",
    "    haversine formula determining the great-circle distance between two points on a sphere in miles\n",
    "    \"\"\"\n",
    "    lat1, lon1, lat2, lon2 = np.radians([lat1, lon1, lat2, lon2])\n",
    "\n",
    "    a = np.sin((lat2-lat1)/2.0)**2 + \\\n",
    "        np.cos(lat1) * np.cos(lat2) * np.sin((lon2-lon1)/2.0)**2\n",
    "\n",
    "    return 3956 * 2 * np.arcsin(np.sqrt(a))\n",
    "\n",
    "df['distance'] = haversine(df['start_lat'],df['start_lng'],df['end_lat'],df['end_lng'])"
   ]
  },
  {
   "cell_type": "markdown",
   "metadata": {},
   "source": [
    "Let's output our data frame to a CSV file for further analysis in tableau."
   ]
  },
  {
   "cell_type": "code",
   "execution_count": 34,
   "metadata": {
    "ExecuteTime": {
     "end_time": "2022-01-03T03:02:31.449635Z",
     "start_time": "2022-01-03T03:01:44.624462Z"
    }
   },
   "outputs": [],
   "source": [
    "df.to_csv('processed_cyclistic_data.csv', index = False)"
   ]
  },
  {
   "cell_type": "markdown",
   "metadata": {},
   "source": [
    "# Deliverable: Conduct a descriptive analysis\n",
    "\n",
    "## Analysis scope\n",
    "- Organize and format the data (including useful aggregate tables)\n",
    "- Identify trends and relationships with the help of calculations, data aggregations, and relevant visuals\n",
    "- Provide a summary of the analysis\n",
    "\n",
    "## Aggregates & Formatting\n",
    "\n",
    "To get a sense of how members and casuals behave differently, we'll apply some aggregates around a variety of columns.\n",
    "\n",
    "### Average Ride Length (minutes)"
   ]
  },
  {
   "cell_type": "code",
   "execution_count": 35,
   "metadata": {
    "ExecuteTime": {
     "end_time": "2022-01-03T03:02:31.737621Z",
     "start_time": "2022-01-03T03:02:31.450513Z"
    },
    "scrolled": true
   },
   "outputs": [
    {
     "data": {
      "text/plain": [
       "member_casual\n",
       "casual    40.20\n",
       "member    14.83\n",
       "dtype: object"
      ]
     },
     "execution_count": 35,
     "metadata": {},
     "output_type": "execute_result"
    }
   ],
   "source": [
    "df.groupby('member_casual')['ride_length'].describe().unstack(1).apply(lambda s: \"%.2f\" %s)['mean']"
   ]
  },
  {
   "cell_type": "markdown",
   "metadata": {},
   "source": [
    "On average, casuals spend 2.7 more time than members on Cyclistic bike trips, this will probably reflect in the average bike trip distance as well"
   ]
  },
  {
   "cell_type": "markdown",
   "metadata": {},
   "source": [
    "### Average Distance Length"
   ]
  },
  {
   "cell_type": "code",
   "execution_count": 36,
   "metadata": {
    "ExecuteTime": {
     "end_time": "2022-01-03T03:02:32.021541Z",
     "start_time": "2022-01-03T03:02:31.738554Z"
    },
    "scrolled": true
   },
   "outputs": [
    {
     "data": {
      "text/plain": [
       "      member_casual\n",
       "mean  casual           1.34\n",
       "      member           1.38\n",
       "std   casual           1.31\n",
       "      member           1.17\n",
       "dtype: object"
      ]
     },
     "execution_count": 36,
     "metadata": {},
     "output_type": "execute_result"
    }
   ],
   "source": [
    "df.groupby('member_casual')['distance'].describe().unstack(1).apply(lambda s: \"%.2f\" %s)[['mean','std']]"
   ]
  },
  {
   "cell_type": "markdown",
   "metadata": {},
   "source": [
    "And it doesn't! However, we have to be careful with our assumptions here - we don't know much about the bike trips besides users picking their bikes up at point A and dropping them off at point B. What happens in-between is a bit of a mystery. We could assume that casuals are taking longer because of the potential detours, pit stops, and different speeds involved in their bike trips compared to their member counterparts. There is no definitive answer as to the why in this dataset, but we can speculate that casuals take their time because they use Cyclistic bikes for leisure, whereas members are more concerned with commuting quickly. We can strengthen our case for that theory by digging deeper into bike use comparisons geographically and seasonally. Let's see if weekends are more prominent for casual users as well."
   ]
  },
  {
   "cell_type": "markdown",
   "metadata": {},
   "source": [
    "### Busiest Days of the Week"
   ]
  },
  {
   "cell_type": "code",
   "execution_count": 37,
   "metadata": {
    "ExecuteTime": {
     "end_time": "2022-01-03T03:02:32.277549Z",
     "start_time": "2022-01-03T03:02:32.022517Z"
    }
   },
   "outputs": [
    {
     "data": {
      "text/plain": [
       "      member_casual\n",
       "mean  casual           3.55\n",
       "      member           2.98\n",
       "std   casual           2.00\n",
       "      member           1.95\n",
       "dtype: object"
      ]
     },
     "execution_count": 37,
     "metadata": {},
     "output_type": "execute_result"
    }
   ],
   "source": [
    "df.groupby('member_casual')['start_day_of_week'].describe().unstack(1).apply(lambda s: \"%.2f\" %s)[['mean','std']]"
   ]
  },
  {
   "cell_type": "code",
   "execution_count": 38,
   "metadata": {
    "ExecuteTime": {
     "end_time": "2022-01-03T03:02:33.007541Z",
     "start_time": "2022-01-03T03:02:32.279511Z"
    },
    "scrolled": false
   },
   "outputs": [
    {
     "data": {
      "text/plain": [
       "member_casual  start_day_of_week\n",
       "casual         5                    398635\n",
       "               6                    333070\n",
       "               4                    250285\n",
       "               2                    189843\n",
       "               3                    187573\n",
       "               0                    185656\n",
       "               1                    179388\n",
       "member         2                    353763\n",
       "               5                    339480\n",
       "               4                    338864\n",
       "               3                    330274\n",
       "               1                    330065\n",
       "               0                    305907\n",
       "               6                    292243\n",
       "Name: start_day_of_week, dtype: int64"
      ]
     },
     "execution_count": 38,
     "metadata": {},
     "output_type": "execute_result"
    }
   ],
   "source": [
    "df.groupby('member_casual')['start_day_of_week'].value_counts()"
   ]
  },
  {
   "cell_type": "markdown",
   "metadata": {
    "hide_input": false
   },
   "source": [
    "As we thought, casuals spend most of their bike trips on weekends while members spread out their use more evenly throughout the week. \n",
    "\n",
    "Aggregate measurements will only go so far, so let's look into some visuals to pick up on more clues."
   ]
  },
  {
   "cell_type": "markdown",
   "metadata": {},
   "source": [
    "### Relevant Visuals\n",
    "\n",
    "I've created some interactive visuals on Tableau that are viewable [here](https://public.tableau.com/app/profile/vincent.wainman/viz/CaseStudy-Cyclistic/CyclisticCaseStudyVisuals) on tableau public."
   ]
  },
  {
   "cell_type": "markdown",
   "metadata": {},
   "source": [
    "## Identifying Trends and Relationships"
   ]
  },
  {
   "cell_type": "markdown",
   "metadata": {},
   "source": [
    "### Both User Types:\n",
    "\n",
    "- Scarcely ride Cyclistic bikes during the colder months\n",
    "- Pick up and drop off their bikes at roughly the same distance\n",
    "\n",
    "### Casuals:\n",
    "\n",
    "- Are more numerous during summer and congregate near the bay area\n",
    "- Tend to be more active during the afternoon and late evenings\n",
    "- Consistently have longer ride lengths year-round\n",
    "- Favor docked bikes for lengthy bike trips\n",
    "- Have a negligible presence during the winter months\n",
    "\n",
    "### Members:\n",
    "\n",
    "- Have steady average ride lengths year-round\n",
    "- Are active at all times of the day, more so in the morning and afternoon \n",
    "- Have trips spread out throughout Chicago's downtown area\n",
    "- Are more consistent with their bike trips year-round"
   ]
  },
  {
   "cell_type": "markdown",
   "metadata": {},
   "source": [
    "## Findings Summary: Inconclusive\n",
    "\n",
    "Our analysis reveals some important behavioral differences between Casuals and Members. These distinctions hint at some variations in fundamental values between the two groups, but at this stage, the information we've uncovered can only be used to make generalizations about the entire population of bike trips on both sides and is insufficient to draw any conclusions about your typical member or casual. Therefore, our findings cannot fully answer the question that started this project without collecting more relevant data and reiterating the data analysis process.\n",
    "\n",
    "### Speculations\n",
    "\n",
    "A. Casuals primarily use Cyclistic bikes for leisure\n",
    "\n",
    "We make that assumption based on the fact that casuals:\n",
    "\n",
    "- Bike twice as much on Saturdays and Sundays compared to any other day of the week\n",
    "- Spend the majority of their bike trips near parks and water\n",
    "- Spend significantly longer on average on every bike trip, suggesting that they spend time in-between docking stations doing leisurely activities \n",
    "- Scarcely use Cyclistic bikes in the morning (6 am-noon)\n",
    "- Do not use Cyclistic bikes often enough to warrant paying for an annual membership\n",
    "\n",
    "B. Members get more out of Cyclistic bikes by using them for leisure and commuting consistently\n",
    "\n",
    "We've drawn that conclusion based on the fact that members:\n",
    "\n",
    "- Rely on bikes consistently each week and year-round, with no notable preference on a single day of the week\n",
    "- Use Cyclistic bikes often during the rush hours on a typical workday\n",
    "- Have a large geographical spread in the downtown area, particularly in high urban dense areas\n",
    "- Are motivated by the economics of an annual membership pass "
   ]
  },
  {
   "cell_type": "markdown",
   "metadata": {
    "heading_collapsed": true
   },
   "source": [
    "## Deliverable: Share Key Findings with Stakeholders\n",
    "\n",
    "My presentation to stakeholders on my findings can be found [here](https://youtu.be/9Rr4QwJb5Lk)."
   ]
  },
  {
   "cell_type": "markdown",
   "metadata": {},
   "source": [
    "## Deliverable: Act on Key Findings"
   ]
  },
  {
   "cell_type": "markdown",
   "metadata": {},
   "source": [
    "### Next Steps: Recommended Paths\n",
    "\n",
    "#### A) Reiterating on Data Extraction and Analysis \n",
    "\n",
    "To confirm that our speculations are true and uncover any other notable behavioral differences, we need to survey a significant sample of our user population to discover what truly defines each user group's behavior. Gravitating towards qualitative data that would provide insights like opinions and motivations (what do they use Cyclistic bikes for?) providing some much-needed context behind our initial findings. In particular, finding out what can incentivize users will help us leverage consumer needs for the marketing campaign.\n",
    "\n",
    "Variations of effective non-open ended questions like:\n",
    "- How concerned are you about saving money? \n",
    "- How much do you care about your carbon footprint impact? \n",
    "- What is your ideal commuting time?\n",
    "- What are your concerns with using Cyclistic bikes? \n",
    "- How attached are you to other forms of transportation?\n",
    "- Why do you use Cyclistic bikes? \n",
    "- How often do you exercise? \n",
    "- How concerned are you about your health?\n",
    "\n",
    "... are example questions that would uncover deeper insights about behavioral patterns. In addition, collecting more data into user demographics would provide more information into your typical casual or member with features like users' willingness to pay. \n",
    "\n",
    "The idea here is to get a good sense of the major obstacles and opportunities ahead of Cyclistic that could interfere in any conversion strategy. For instance, if Casuals do not have enough disposable income and a lot of effort is required to convince an increase in financial commitment to the service, a conversion strategy that does not account for these factors is likely to fail.  \n",
    "\n",
    "Ultimately, a successful conversion relies on information that provides enough incentive to casual users to be willing to make the switch.\n",
    "\n",
    "#### B) Forging Ahead with our Initial Findings\n",
    "\n",
    "Unfortunately, the safest choice often requires the investment of more time and resources. If Cyclistic executives can tolerate a certain level of risk, they can use the findings in this analysis to kick-start and form the basis of a few strategies. Regardless, due diligence is required to ensure the viability of any new marketing strategies. Before any rollout, marketing strategies should undergo testing with techniques like focus groups to assess their relative impact. \n",
    "\n",
    "The top three recommendations moving forward:\n",
    "\n",
    "<p>1. Consider alternatives to conversion, such as new service and pricing models</p>\n",
    "\n",
    "The future of Cyclistic should consider the multiple avenues to reach business growth. A well-executed promotion does not accomplish much if customers are heavily affected by the pain points in the Cyclistic experience. Instead, we should examine any options that innovate and enhance the current Cyclistic experience. In particular, a three-tiered pricing approach could optimize revenue by offering a service that fits between single-use passes and an annual subscription that provides unlimited rides. This offering would seek a balance between the two, finding the sweet spot for the majority of casuals that cannot justify the economics of an expensive annual payment and the limitations of single-use passes. For example, a weekend pass would serve as a good compromise for users that typically only use Cyclistic for leisure on weekends. However, it's worth examining how this may inadvertently convert current annual members and if there's any way to mitigate that potential outcome.\n",
    "\n",
    "<p>2. Explore ways to convey the benefits of biking more frequently</p>\n",
    "\n",
    "If Cyclistic can incentivize Casual users to significantly increase their biking tendencies, then maybe these users are willing to upgrade their commitment. This incentivization could come from a variety of strategies, one of which could come through an effective marketing campaign that informs users of the prominent benefits of biking. \n",
    "\n",
    "Convincing someone to change their habits has always been a monumental task. This strategy would probably require a very intense and deliberate method of enforcing self-discipline to disrupt your typical Casual user's habits. For this reason, it may be best to narrow the marketing strategy's focus to a subset of Casuals that can reasonably be influenced to pursue their personal goals.\n",
    "\n",
    "<p>3. Explore models that reward higher-priced offerings with additional privileges</p>\n",
    "\n",
    "As it stands, Casuals and Members experience a relatively similar level of service, aside from the difference in bike trip times. They are both given the same privileges on a first-come-first-serve service basis for every available bike type. Naturally, some people will experience pain points under this system whenever they come up to a station and miss out on using their favorite bike type or are severely inconvenienced with a biking shortage during peak biking season.\n",
    "\n",
    "By minimizing this inconvenience for members, Casuals will bear the brunt of the inconvenience. For example, members could have the privilege of knowing what bikes are available in real-time and can reserve one ahead of time. This will eliminate Casual's access to the first-come-first-serve experience, and force them to deal with the inconvenience, upgrade their commitment, or switch to a competing product. Admittedly, this is risky in the sense that it could cause severe backlash and result in a high churn rate. However, the trick is to maintain a level of service that is as similar as possible and will not disrupt and inconvenience Casuals on every use.\n",
    "\n",
    "These privileges would not necessarily convert a large portion of Casuals, as I doubt it would provide enough justification for them to pay more for the same amount of bike use with extra perks. Regardless, it is worth examining the pain threshold for Casuals and testing how they would react. This strategy could be synergized with the three-tiered pricing strategy, introducing different levels of perks for each service offering and encouraging most users to choose the service that provides the best experience at a compatible price."
   ]
  }
 ],
 "metadata": {
  "hide_input": false,
  "interpreter": {
   "hash": "16b06b994cbcb344dc2cd7cdf63d604b72ab02fa9dcf9407c7bd609b26bf2ef1"
  },
  "kernelspec": {
   "display_name": "Python 3",
   "language": "python",
   "name": "python3"
  },
  "language_info": {
   "codemirror_mode": {
    "name": "ipython",
    "version": 3
   },
   "file_extension": ".py",
   "mimetype": "text/x-python",
   "name": "python",
   "nbconvert_exporter": "python",
   "pygments_lexer": "ipython3",
   "version": "3.8.12"
  },
  "toc": {
   "base_numbering": 1,
   "nav_menu": {},
   "number_sections": true,
   "sideBar": true,
   "skip_h1_title": false,
   "title_cell": "Table of Contents",
   "title_sidebar": "Contents",
   "toc_cell": false,
   "toc_position": {},
   "toc_section_display": true,
   "toc_window_display": false
  },
  "varInspector": {
   "cols": {
    "lenName": "30",
    "lenType": 16,
    "lenVar": "20"
   },
   "kernels_config": {
    "python": {
     "delete_cmd_postfix": "",
     "delete_cmd_prefix": "del ",
     "library": "var_list.py",
     "varRefreshCmd": "print(var_dic_list())"
    },
    "r": {
     "delete_cmd_postfix": ") ",
     "delete_cmd_prefix": "rm(",
     "library": "var_list.r",
     "varRefreshCmd": "cat(var_dic_list()) "
    }
   },
   "position": {
    "height": "255px",
    "left": "1521px",
    "right": "20px",
    "top": "234px",
    "width": "383px"
   },
   "types_to_exclude": [
    "module",
    "function",
    "builtin_function_or_method",
    "instance",
    "_Feature"
   ],
   "window_display": true
  }
 },
 "nbformat": 4,
 "nbformat_minor": 2
}
